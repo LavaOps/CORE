{
 "cells": [
  {
   "cell_type": "markdown",
   "id": "3157b737",
   "metadata": {},
   "source": [
    "This notebook produces ReFramed's results when essential nutrients are removed as shown in Table 7. The media is comprised of the compounds in the COBRApy model for each of the respective models. Dependencies are listed in the readme. This notebook assumes ReFramed is installed as well as a solver. (See readme). "
   ]
  },
  {
   "cell_type": "code",
   "execution_count": 1,
   "id": "a326fc6a",
   "metadata": {},
   "outputs": [],
   "source": [
    "#Import the require modules\n",
    "from reframed import load_cbmodel\n",
    "from reframed import Environment\n",
    "from reframed import FBA"
   ]
  },
  {
   "cell_type": "markdown",
   "id": "32584b8f",
   "metadata": {},
   "source": [
    "It is noted that the warnings that occur on loading the models do not appear in the latest version of ReFramed (version 1.4.0). They are removed here, but a small example is shown in the readme. "
   ]
  },
  {
   "cell_type": "code",
   "execution_count": 8,
   "id": "2cc0d4be",
   "metadata": {},
   "outputs": [],
   "source": [
    "#Load models\n",
    "iML1515_model=load_cbmodel('models/iML1515.xml')\n",
    "iJO1366_model=load_cbmodel('models/iJO1366.xml')\n",
    "iEK1008_model=load_cbmodel('models/iEK1008.xml')\n",
    "iSB619_model=load_cbmodel('models/iSB619.xml')\n",
    "iCN900_model=load_cbmodel('models/iCN900.xml')"
   ]
  },
  {
   "cell_type": "markdown",
   "id": "33fb5091",
   "metadata": {},
   "source": [
    "**The following cells produce the biomass produced for all models except iML1515-KBase and iBsu1103 (due to the complexity of their media) when (1) carbon is removed from the environment, (2) oxygen is removed from the environment, (3) nitrogen is removed from the environment, (4) phosphate is removed from the environment, (5) sulfate is removed from the environment.**"
   ]
  },
  {
   "cell_type": "markdown",
   "id": "6e2223ef",
   "metadata": {},
   "source": [
    "*cell 1*"
   ]
  },
  {
   "cell_type": "code",
   "execution_count": 3,
   "id": "1f306a71",
   "metadata": {},
   "outputs": [
    {
     "name": "stdout",
     "output_type": "stream",
     "text": [
      "iML1515 without carbon: \n",
      "Objective: None\n",
      "Status: Infeasible\n",
      " \n",
      "\n",
      "iJO1366 without carbon: \n",
      "Objective: None\n",
      "Status: Infeasible\n",
      " \n",
      "\n",
      "iEK1008 without carbon: \n",
      "Objective: None\n",
      "Status: Infeasible\n",
      " \n",
      "\n",
      "iSB619 without carbon: \n",
      "Objective: 0.0\n",
      "Status: Optimal\n",
      " \n",
      "\n",
      "iCN900 without carbon: \n",
      "Objective: 0.0\n",
      "Status: Optimal\n",
      "\n"
     ]
    }
   ],
   "source": [
    "env_C_iML1515_model = Environment.from_compounds([ \"pi\",'cl','o2','ni2','ca2','nh4','mg2','mn2','mobd','cu2','k','cobalt2','h','fe3','h2o','na1','fe2','so4','zn2','co2','sel','tungs','slnt']).apply(iML1515_model, exclusive=True, inplace=False)\n",
    "sol_C_iML1515_model = FBA(iML1515_model, constraints=env_C_iML1515_model)\n",
    "print('iML1515 without carbon: ')\n",
    "print(sol_C_iML1515_model, '\\n')\n",
    "\n",
    "env_C_iJO1366_model = Environment.from_compounds(['pi','cl','o2','ni2','ca2','nh4','mg2','mn2','mobd','cu2','k','cobalt2','cbl1','sel','h','fe3','co2','h2o','na1','slnt','tungs','fe2','so4','zn2']).apply(iJO1366_model, exclusive=True, inplace=False)\n",
    "sol_C_iJO1366_model = FBA(iJO1366_model, constraints=env_C_iJO1366_model)\n",
    "print('iJO1366 without carbon: ')\n",
    "print(sol_C_iJO1366_model, '\\n')\n",
    "\n",
    "env_C_iEK1008_model = Environment.from_compounds([\"mg2\",'nh4', 'o2','pi','so4',\"ca2\",'cl','fe3','h2o','h']).apply(iEK1008_model, exclusive=True, inplace=False)\n",
    "sol_C_iEK1008_model = FBA(iEK1008_model, constraints=env_C_iEK1008_model)\n",
    "print('iEK1008 without carbon: ')\n",
    "print(sol_C_iEK1008_model, '\\n')\n",
    "\n",
    "env_C_iSB619_model = Environment.from_compounds(['fe2', 'h2o','h','o2',\"pi\",'so4',]).apply(iSB619_model, exclusive=True, inplace=False)\n",
    "sol_C_iSB619_model = FBA(iSB619_model, constraints=env_C_iSB619_model)\n",
    "print('iSB619 without carbon: ')\n",
    "print(sol_C_iSB619_model, '\\n')\n",
    "\n",
    "env_C_iCN900_model = Environment.from_compounds(['k', 'fe2','ca2',\"mg2\",'pi','na1','zn2','h','co2', 'h2o','sel','slnt','cobalt2']).apply(iCN900_model, exclusive=True, inplace=False)\n",
    "sol_C_iCN900_model = FBA(iCN900_model, constraints=env_C_iCN900_model)\n",
    "print('iCN900 without carbon: ')\n",
    "print(sol_C_iCN900_model)"
   ]
  },
  {
   "cell_type": "markdown",
   "id": "55517cc0",
   "metadata": {},
   "source": [
    "*cell 2*"
   ]
  },
  {
   "cell_type": "code",
   "execution_count": 4,
   "id": "21d040ea",
   "metadata": {},
   "outputs": [
    {
     "name": "stdout",
     "output_type": "stream",
     "text": [
      "iML1515 without oxygen: \n",
      "Objective: 0.1575398169375966\n",
      "Status: Optimal\n",
      " \n",
      "\n",
      "iJO1366 without oxygen: \n",
      "Objective: 0.24150155709717674\n",
      "Status: Optimal\n",
      " \n",
      "\n",
      "iEK1008 without oxygen: \n",
      "Objective: 0.0\n",
      "Status: Optimal\n",
      " \n",
      "\n",
      "iSB619 without oxygen: \n",
      "Objective: 0.0\n",
      "Status: Optimal\n",
      " \n",
      "\n",
      "iCN900: anaerobic, no o2 in model \n"
     ]
    }
   ],
   "source": [
    "env_O_iML1515_model = Environment.from_compounds([ \"glc__D\",\"pi\",'cl','ni2','ca2','nh4','mg2','mn2','mobd','cu2','k','cobalt2','h','fe3','h2o','na1','fe2','so4','zn2','co2','sel','tungs','slnt']).apply(iML1515_model, exclusive=True, inplace=False)\n",
    "sol_O_iML1515_model = FBA(iML1515_model, constraints=env_O_iML1515_model)\n",
    "print('iML1515 without oxygen: ')\n",
    "print(sol_O_iML1515_model, '\\n')\n",
    "\n",
    "env_O_iJO1366_model = Environment.from_compounds(['glc__D','pi','cl','ni2','ca2','nh4','mg2','mn2','mobd','cu2','k','cobalt2','cbl1','sel','h','fe3','co2','h2o','na1','slnt','tungs','fe2','so4','zn2']).apply(iJO1366_model, exclusive=True, inplace=False)\n",
    "sol_O_iJO1366_model = FBA(iJO1366_model, constraints=env_O_iJO1366_model)\n",
    "print('iJO1366 without oxygen: ')\n",
    "print(sol_O_iJO1366_model, '\\n')\n",
    "\n",
    "env_O_iEK1008_model = Environment.from_compounds([\"mg2\",'nh4', 'pi','asn__L','so4',\"ca2\",'cit','cl','fe3','h2o','glyc','h','chsterol','etoh']).apply(iEK1008_model, exclusive=True, inplace=False)\n",
    "sol_O_iEK1008_model = FBA(iEK1008_model, constraints=env_O_iEK1008_model)\n",
    "print('iEK1008 without oxygen: ')\n",
    "print(sol_O_iEK1008_model, '\\n')\n",
    "\n",
    "env_O_iSB619_model = Environment.from_compounds([\"csn\",'fe2', 'glc__D','h2o','h','nac',\"pi\",'pro__L','so4','thm']).apply(iSB619_model, exclusive=True, inplace=False)\n",
    "sol_O_iSB619_model = FBA(iSB619_model, constraints=env_O_iSB619_model)\n",
    "print('iSB619 without oxygen: ')\n",
    "print(sol_O_iSB619_model, '\\n')\n",
    "\n",
    "env_O_iCN900_model = Environment.from_compounds([\"leu__L\",'k', 'pydxn','fe2','ca2','ile__L',\"mg2\",'pro__L','pi','trp__L','met__L','cys__L','btn','pnto__R','na1','zn2','h','co2','val__L', 'h2o','sel','slnt','cobalt2']).apply(iCN900_model, exclusive=True, inplace=False)\n",
    "sol_O_iCN900_model = FBA(iCN900_model, constraints=env_O_iCN900_model)\n",
    "print('iCN900: anaerobic, no o2 in model ')#, sol_O_iCN900_model)\n"
   ]
  },
  {
   "cell_type": "markdown",
   "id": "d0681d81",
   "metadata": {},
   "source": [
    "*cell 3*"
   ]
  },
  {
   "cell_type": "code",
   "execution_count": 5,
   "id": "6182fb5f",
   "metadata": {},
   "outputs": [
    {
     "name": "stdout",
     "output_type": "stream",
     "text": [
      "iML1515 without nitrogen: \n",
      "Objective: 0.0\n",
      "Status: Optimal\n",
      " \n",
      "\n",
      "iJO1366 without nitrogen: \n",
      "Objective: 0.0\n",
      "Status: Optimal\n",
      " \n",
      "\n",
      "iEK1008 without nitrogen: \n",
      "Objective: 0.0\n",
      "Status: Optimal\n",
      " \n",
      "\n",
      "iSB619 without nitrogen: \n",
      "Objective: 0.0\n",
      "Status: Optimal\n",
      " \n",
      "\n",
      "iCN900 without nitrogen: \n",
      "Objective: 0.0\n",
      "Status: Optimal\n",
      "\n"
     ]
    }
   ],
   "source": [
    "env_N_iML1515_model = Environment.from_compounds([ \"glc__D\",\"pi\",'cl','o2','ni2','ca2','mg2','mn2','mobd','cu2','k','cobalt2','h','fe3','h2o','na1','fe2','so4','zn2','co2','sel','tungs','slnt']).apply(iML1515_model, exclusive=True, inplace=False)\n",
    "sol_N_iML1515_model = FBA(iML1515_model, constraints=env_N_iML1515_model)\n",
    "print('iML1515 without nitrogen: ')\n",
    "print(sol_N_iML1515_model, '\\n')\n",
    "\n",
    "env_N_iJO1366_model = Environment.from_compounds(['glc__D', 'pi','cl','o2','ni2','ca2','mg2','mn2','mobd','cu2','k','cobalt2','cbl1','sel','h','fe3','co2','h2o','na1','slnt','tungs','fe2','so4','zn2']).apply(iJO1366_model, exclusive=True, inplace=False)\n",
    "sol_N_iJO1366_model = FBA(iJO1366_model, constraints=env_N_iJO1366_model)\n",
    "print('iJO1366 without nitrogen: ')\n",
    "print(sol_N_iJO1366_model, '\\n')\n",
    "\n",
    "env_N_iEK1008_model = Environment.from_compounds([\"mg2\",'o2','pi','so4',\"ca2\",'cit','cl','fe3','h2o','glyc','h','chsterol','etoh']).apply(iEK1008_model, exclusive=True, inplace=False)\n",
    "sol_N_iEK1008_model = FBA(iEK1008_model, constraints=env_N_iEK1008_model)\n",
    "print('iEK1008 without nitrogen: ')\n",
    "print(sol_N_iEK1008_model, '\\n')\n",
    "\n",
    "env_N_iSB619_model = Environment.from_compounds(['fe2', 'glc__D','h2o','h','o2',\"pi\",'so4']).apply(iSB619_model, exclusive=True, inplace=False)\n",
    "sol_N_iSB619_model = FBA(iSB619_model, constraints=env_N_iSB619_model)\n",
    "print('iSB619 without nitrogen: ')\n",
    "print(sol_N_iSB619_model, '\\n')\n",
    "\n",
    "env_N_iCN900_model = Environment.from_compounds(['k', 'fe2','ca2',\"mg2\",'pi','na1','zn2','h','co2', 'h2o','sel','slnt','cobalt2']).apply(iCN900_model, exclusive=True, inplace=False)\n",
    "sol_N_iCN900_model = FBA(iCN900_model, constraints=env_N_iCN900_model)\n",
    "print('iCN900 without nitrogen: ')\n",
    "print(sol_N_iCN900_model)"
   ]
  },
  {
   "cell_type": "markdown",
   "id": "c993a7e6",
   "metadata": {},
   "source": [
    "*cell 4*"
   ]
  },
  {
   "cell_type": "code",
   "execution_count": 6,
   "id": "33d6249d",
   "metadata": {},
   "outputs": [
    {
     "name": "stdout",
     "output_type": "stream",
     "text": [
      "iML1515 without phosphate: \n",
      "Objective: 8.881784197001252e-15\n",
      "Status: Optimal\n",
      " \n",
      "\n",
      "iJO1366 without phosphate: \n",
      "Objective: 8.881784197001252e-15\n",
      "Status: Optimal\n",
      " \n",
      "\n",
      "iEK1008 without phosphate: \n",
      "Objective: 0.0\n",
      "Status: Optimal\n",
      " \n",
      "\n",
      "iSB619 without phosphate: \n",
      "Objective: 7.589415207398531e-18\n",
      "Status: Optimal\n",
      " \n",
      "\n",
      "iCN900 without phosphate: \n",
      "Objective: 0.0\n",
      "Status: Optimal\n",
      "\n"
     ]
    }
   ],
   "source": [
    "env_P_iML1515_model = Environment.from_compounds([ \"glc__D\",'cl','o2','ni2','ca2','nh4','mg2','mn2','mobd','cu2','k','cobalt2','h','fe3','h2o','na1','fe2','so4','zn2','co2','sel','tungs','slnt']).apply(iML1515_model, exclusive=True, inplace=False)\n",
    "sol_P_iML1515_model = FBA(iML1515_model, constraints=env_P_iML1515_model)\n",
    "print('iML1515 without phosphate: ')\n",
    "print(sol_P_iML1515_model, '\\n')\n",
    "\n",
    "env_P_iJO1366_model = Environment.from_compounds(['glc__D', 'cl','o2','ni2','ca2','nh4','mg2','mn2','mobd','cu2','k','cobalt2','cbl1','sel','h','fe3','co2','h2o','na1','slnt','tungs','fe2','so4','zn2']).apply(iJO1366_model, exclusive=True, inplace=False)\n",
    "sol_P_iJO1366_model = FBA(iJO1366_model, constraints=env_P_iJO1366_model)\n",
    "print('iJO1366 without phosphate: ')\n",
    "print(sol_P_iJO1366_model, '\\n')\n",
    "\n",
    "env_P_iEK1008_model = Environment.from_compounds([\"mg2\",'nh4', 'o2', 'asn__L','so4',\"ca2\",'cit','cl','fe3','h2o','glyc','h','chsterol','etoh']).apply(iEK1008_model, exclusive=True, inplace=False)\n",
    "sol_P_iEK1008_model = FBA(iEK1008_model, constraints=env_P_iEK1008_model)\n",
    "print('iEK1008 without phosphate: ')\n",
    "print(sol_P_iEK1008_model, '\\n')\n",
    "\n",
    "env_P_iSB619_model = Environment.from_compounds([\"csn\",'fe2', 'glc__D','h2o','h','nac','o2', 'pro__L','so4','thm']).apply(iSB619_model, exclusive=True, inplace=False)\n",
    "sol_P_iSB619_model = FBA(iSB619_model, constraints=env_P_iSB619_model)\n",
    "print('iSB619 without phosphate: ')\n",
    "print(sol_P_iSB619_model, '\\n')\n",
    "\n",
    "env_P_iCN900_model = Environment.from_compounds([\"leu__L\",'k', 'pydxn','fe2','ca2','ile__L',\"mg2\",'pro__L', 'trp__L','met__L','cys__L','btn','pnto__R','na1','zn2','h','co2','val__L', 'h2o','sel','slnt','cobalt2']).apply(iCN900_model, exclusive=True, inplace=False)\n",
    "sol_P_iCN900_model = FBA(iCN900_model, constraints=env_P_iCN900_model)\n",
    "print('iCN900 without phosphate: ')\n",
    "print(sol_P_iCN900_model)"
   ]
  },
  {
   "cell_type": "markdown",
   "id": "ba67c90a",
   "metadata": {},
   "source": [
    "*cell 5*"
   ]
  },
  {
   "cell_type": "code",
   "execution_count": 7,
   "id": "e294fb4a",
   "metadata": {},
   "outputs": [
    {
     "name": "stdout",
     "output_type": "stream",
     "text": [
      "iML1515 without sulfate: \n",
      "Objective: 0.0\n",
      "Status: Optimal\n",
      " \n",
      "\n",
      "iJO1366 without sulfate: \n",
      "Objective: 0.0\n",
      "Status: Optimal\n",
      " \n",
      "\n",
      "iEK1008 without sulfate: \n",
      "Objective: 0.0\n",
      "Status: Optimal\n",
      " \n",
      "\n",
      "iSB619 without sulfate: \n",
      "Objective: 0.0\n",
      "Status: Optimal\n",
      " \n",
      "\n",
      "iCN900 without sulfate: \n",
      "Objective: 0.0\n",
      "Status: Optimal\n",
      "\n"
     ]
    }
   ],
   "source": [
    "env_S_iML1515_model = Environment.from_compounds([ \"glc__D\",\"pi\",'cl','o2','ni2','ca2','nh4','mg2','mn2','mobd','cu2','k','cobalt2','h','fe3','h2o','na1','fe2','zn2','co2','sel','tungs','slnt']).apply(iML1515_model, exclusive=True, inplace=False)\n",
    "sol_S_iML1515_model = FBA(iML1515_model, constraints=env_S_iML1515_model)\n",
    "print('iML1515 without sulfate: ')\n",
    "print(sol_S_iML1515_model, '\\n')\n",
    "\n",
    "env_S_iJO1366_model = Environment.from_compounds(['glc__D', 'pi','cl','o2','ni2','ca2','nh4','mg2','mn2','mobd','cu2','k','cobalt2','cbl1','sel','h','fe3','co2','h2o','na1','slnt','tungs','fe2','zn2']).apply(iJO1366_model, exclusive=True, inplace=False)\n",
    "sol_S_iJO1366_model = FBA(iJO1366_model, constraints=env_S_iJO1366_model)\n",
    "print('iJO1366 without sulfate: ')\n",
    "print(sol_S_iJO1366_model, '\\n')\n",
    "\n",
    "env_S_iEK1008_model = Environment.from_compounds([\"mg2\",'nh4', 'o2','pi','asn__L',\"ca2\",'cit','cl','fe3','h2o','glyc','h','chsterol','etoh']).apply(iEK1008_model, exclusive=True, inplace=False)\n",
    "sol_S_iEK1008_model = FBA(iEK1008_model, constraints=env_S_iEK1008_model)\n",
    "print('iEK1008 without sulfate: ')\n",
    "print(sol_S_iEK1008_model, '\\n')\n",
    "\n",
    "env_S_iSB619_model = Environment.from_compounds([\"csn\",'fe2', 'glc__D','h2o','h','nac','o2',\"pi\",'pro__L']).apply(iSB619_model, exclusive=True, inplace=False)\n",
    "sol_S_iSB619_model = FBA(iSB619_model, constraints=env_S_iSB619_model)\n",
    "print('iSB619 without sulfate: ') \n",
    "print(sol_S_iSB619_model, '\\n')\n",
    "\n",
    "env_S_iCN900_model = Environment.from_compounds([\"leu__L\",'k', 'pydxn','fe2','ca2','ile__L',\"mg2\",'pro__L','pi','trp__L','pnto__R','na1','zn2','h','co2','val__L', 'h2o','sel','slnt','cobalt2']).apply(iCN900_model, exclusive=True, inplace=False)\n",
    "sol_S_iCN900_model = FBA(iCN900_model, constraints=env_S_iCN900_model)\n",
    "print('iCN900 without sulfate: ')\n",
    "print(sol_S_iCN900_model)\n"
   ]
  }
 ],
 "metadata": {
  "kernelspec": {
   "display_name": "Python 3 (ipykernel)",
   "language": "python",
   "name": "python3"
  },
  "language_info": {
   "codemirror_mode": {
    "name": "ipython",
    "version": 3
   },
   "file_extension": ".py",
   "mimetype": "text/x-python",
   "name": "python",
   "nbconvert_exporter": "python",
   "pygments_lexer": "ipython3",
   "version": "3.8.11"
  }
 },
 "nbformat": 4,
 "nbformat_minor": 5
}
