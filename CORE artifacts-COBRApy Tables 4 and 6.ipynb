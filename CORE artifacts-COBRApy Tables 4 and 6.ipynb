{
 "cells": [
  {
   "cell_type": "markdown",
   "id": "147741a4",
   "metadata": {},
   "source": [
    "This notebook produces COBRApy's results in Tables 4 and 6. Dependencies are listed in the readme. This notebook assumes COBRApy is installed as well as a solver. (See readme). "
   ]
  },
  {
   "cell_type": "code",
   "execution_count": 1,
   "id": "735ab36e",
   "metadata": {},
   "outputs": [],
   "source": [
    "#Import required modules \n",
    "import cobra\n",
    "from cobra.io import read_sbml_model\n",
    "from cobra.flux_analysis import find_essential_genes\n",
    "from cobra.flux_analysis import find_essential_reactions"
   ]
  },
  {
   "cell_type": "code",
   "execution_count": 2,
   "id": "885f00e3",
   "metadata": {},
   "outputs": [],
   "source": [
    "#Load models\n",
    "iML1515_model=read_sbml_model('models/iML1515.xml')\n",
    "iJO1366_model=read_sbml_model('models/iJO1366.xml')\n",
    "iEK1008_model=read_sbml_model('models/iEK1008.xml')\n",
    "iSB619_model=read_sbml_model('models/iSB619.xml')\n",
    "iCN900_model=read_sbml_model('models/iCN900.xml')\n",
    "iML1515_KBase_model=read_sbml_model('models/iML1515_KBase.xml')\n",
    "iBsu1103_model=read_sbml_model('models/iBsu1103.xml')"
   ]
  },
  {
   "cell_type": "markdown",
   "id": "6bcf3132",
   "metadata": {},
   "source": [
    "**The next three cells produce (1) the number of genes in the networks, (2) the number of reactions in the networks, and (3) the number of metabolites in the network.**"
   ]
  },
  {
   "cell_type": "markdown",
   "id": "e77214e4",
   "metadata": {},
   "source": [
    "*cell 1*"
   ]
  },
  {
   "cell_type": "code",
   "execution_count": 3,
   "id": "3cb36eef",
   "metadata": {},
   "outputs": [
    {
     "name": "stdout",
     "output_type": "stream",
     "text": [
      "iML1515 gene count:  1516\n",
      "iJO1366 gene count:  1367\n",
      "iEK1008 gene count:  1008\n",
      "iSB619 gene count:  619\n",
      "iCN900 gene count:  900\n",
      "iML1515_KBase gene count:  1515\n",
      "iBsu1103 gene count:  1109\n"
     ]
    }
   ],
   "source": [
    "print(\"iML1515 gene count: \",  len(iML1515_model.genes))\n",
    "print(\"iJO1366 gene count: \", len(iJO1366_model.genes))\n",
    "print(\"iEK1008 gene count: \", len(iEK1008_model.genes))\n",
    "print(\"iSB619 gene count: \", len(iSB619_model.genes))\n",
    "print(\"iCN900 gene count: \", len(iCN900_model.genes))\n",
    "print(\"iML1515_KBase gene count: \", len(iML1515_KBase_model.genes))\n",
    "print(\"iBsu1103 gene count: \", len(iBsu1103_model.genes))"
   ]
  },
  {
   "cell_type": "markdown",
   "id": "28d7d107",
   "metadata": {},
   "source": [
    "*cell 2*"
   ]
  },
  {
   "cell_type": "code",
   "execution_count": 4,
   "id": "44456441",
   "metadata": {},
   "outputs": [
    {
     "name": "stdout",
     "output_type": "stream",
     "text": [
      "iML1515 reaction count:  2712\n",
      "iJO1366 reaction count:  2583\n",
      "iEK1008 reaction count:  1226\n",
      "iSB619 reaction count:  743\n",
      "iCN900 reaction count:  1229\n",
      "iML1515_KBase reaction count:  2723\n",
      "iBsu1103 reaction count:  1681\n"
     ]
    }
   ],
   "source": [
    "print(\"iML1515 reaction count: \",  len(iML1515_model.reactions))\n",
    "print(\"iJO1366 reaction count: \", len(iJO1366_model.reactions))\n",
    "print(\"iEK1008 reaction count: \", len(iEK1008_model.reactions))\n",
    "print(\"iSB619 reaction count: \", len(iSB619_model.reactions))\n",
    "print(\"iCN900 reaction count: \", len(iCN900_model.reactions))\n",
    "print(\"iML1515_KBase reaction count: \", len(iML1515_KBase_model.reactions))\n",
    "print(\"iBsu1103 reaction count: \", len(iBsu1103_model.reactions))"
   ]
  },
  {
   "cell_type": "markdown",
   "id": "223ffb30",
   "metadata": {},
   "source": [
    "*cell 3*"
   ]
  },
  {
   "cell_type": "code",
   "execution_count": 5,
   "id": "bf99aa1f",
   "metadata": {},
   "outputs": [
    {
     "name": "stdout",
     "output_type": "stream",
     "text": [
      "iML1515 metabolite count:  1877\n",
      "iJO1366 metabolite count:  1805\n",
      "iEK1008 metabolite count:  998\n",
      "iSB619 metabolite count:  655\n",
      "iCN900 metabolite count:  885\n",
      "iML1515_KBase metabolite count:  1877\n",
      "iBsu1103 metabolite count:  1381\n"
     ]
    }
   ],
   "source": [
    "print(\"iML1515 metabolite count: \",  len(iML1515_model.metabolites))\n",
    "print(\"iJO1366 metabolite count: \", len(iJO1366_model.metabolites))\n",
    "print(\"iEK1008 metabolite count: \", len(iEK1008_model.metabolites))\n",
    "print(\"iSB619 metabolite count: \", len(iSB619_model.metabolites))\n",
    "print(\"iCN900 metabolite count: \", len(iCN900_model.metabolites))\n",
    "print(\"iML1515_KBase metabolite count: \", len(iML1515_KBase_model.metabolites))\n",
    "print(\"iBsu1103 metabolite count: \", len(iBsu1103_model.metabolites))"
   ]
  },
  {
   "cell_type": "markdown",
   "id": "8669c21c",
   "metadata": {},
   "source": [
    "**The next two cells produce (1) the number of essential genes in the networks and (2) the number of essential reactions in the networks.**"
   ]
  },
  {
   "cell_type": "markdown",
   "id": "7303ffc1",
   "metadata": {},
   "source": [
    "*cell 1*"
   ]
  },
  {
   "cell_type": "code",
   "execution_count": 6,
   "id": "08e6ba4d",
   "metadata": {},
   "outputs": [
    {
     "name": "stdout",
     "output_type": "stream",
     "text": [
      "iML1515 essential gene count:  196\n",
      "iJO1366 essential gene count:  208\n",
      "iEK1008 essential gene count:  270\n",
      "iSB619 essential gene count:  168\n",
      "iCN900 essential gene count:  0\n",
      "iML1515_KBase essential gene count:  158\n",
      "iBsu1103 essential gene count:  202\n"
     ]
    }
   ],
   "source": [
    "print(\"iML1515 essential gene count: \",  len(find_essential_genes(iML1515_model)))\n",
    "print(\"iJO1366 essential gene count: \",  len(find_essential_genes(iJO1366_model)))\n",
    "print(\"iEK1008 essential gene count: \",  len(find_essential_genes(iEK1008_model)))\n",
    "print(\"iSB619 essential gene count: \",  len(find_essential_genes(iSB619_model)))\n",
    "print(\"iCN900 essential gene count: \",  len(find_essential_genes(iCN900_model)))\n",
    "print(\"iML1515_KBase essential gene count: \",  len(find_essential_genes(iML1515_KBase_model)))\n",
    "print(\"iBsu1103 essential gene count: \",  len(find_essential_genes(iBsu1103_model)))"
   ]
  },
  {
   "cell_type": "markdown",
   "id": "9d7aa011",
   "metadata": {},
   "source": [
    "*cell 2*"
   ]
  },
  {
   "cell_type": "code",
   "execution_count": 7,
   "id": "bb3452cc",
   "metadata": {},
   "outputs": [
    {
     "name": "stdout",
     "output_type": "stream",
     "text": [
      "iML1515 essential reaction count:  271\n",
      "iJO1366 essential reaction count:  289\n",
      "iEK1008 essential reaction count:  357\n",
      "iSB619 essential reaction count:  244\n",
      "iCN900 essential reaction count:  0\n",
      "iML1515_KBase essential reaction count:  145\n",
      "iBsu1103 essential reaction count:  292\n"
     ]
    }
   ],
   "source": [
    "print(\"iML1515 essential reaction count: \",  len(find_essential_reactions(iML1515_model)))\n",
    "print(\"iJO1366 essential reaction count: \",  len(find_essential_reactions(iJO1366_model)))\n",
    "print(\"iEK1008 essential reaction count: \",  len(find_essential_reactions(iEK1008_model)))\n",
    "print(\"iSB619 essential reaction count: \",  len(find_essential_reactions(iSB619_model)))\n",
    "print(\"iCN900 essential reaction count: \",  len(find_essential_reactions(iCN900_model)))\n",
    "print(\"iML1515_KBase essential reaction count: \",  len(find_essential_reactions(iML1515_KBase_model)))\n",
    "print(\"iBsu1103 essential reaction count: \",  len(find_essential_reactions(iBsu1103_model)))"
   ]
  }
 ],
 "metadata": {
  "kernelspec": {
   "display_name": "Python 3 (ipykernel)",
   "language": "python",
   "name": "python3"
  },
  "language_info": {
   "codemirror_mode": {
    "name": "ipython",
    "version": 3
   },
   "file_extension": ".py",
   "mimetype": "text/x-python",
   "name": "python",
   "nbconvert_exporter": "python",
   "pygments_lexer": "ipython3",
   "version": "3.8.11"
  }
 },
 "nbformat": 4,
 "nbformat_minor": 5
}
