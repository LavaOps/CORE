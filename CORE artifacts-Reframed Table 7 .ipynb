{
 "cells": [
  {
   "cell_type": "markdown",
   "id": "601f3214",
   "metadata": {},
   "source": [
    "This notebook reproduces Reframed's reaction knockout results shown in Table 7. The media is comprised of the compounds in the COBRApy model for each of the respective models. Dependencies are listed in the readme. This notebook assumes ReFramed is installed as well as a solver. (See readme). "
   ]
  },
  {
   "cell_type": "code",
   "execution_count": 1,
   "id": "e09d0eb4",
   "metadata": {},
   "outputs": [],
   "source": [
    "#Import modules \n",
    "from reframed import load_cbmodel\n",
    "from reframed import reaction_knockout\n",
    "from reframed import Environment"
   ]
  },
  {
   "cell_type": "markdown",
   "id": "2ba5899f",
   "metadata": {},
   "source": [
    "It is noted that the warnings that occur on loading the models do not appear in the lastest version of ReFramed (version 1.4.0)."
   ]
  },
  {
   "cell_type": "code",
   "execution_count": 2,
   "id": "c2c556a9",
   "metadata": {},
   "outputs": [
    {
     "name": "stderr",
     "output_type": "stream",
     "text": [
      "/home/alexei/anaconda3/lib/python3.8/site-packages/reframed/io/sbml.py:512: UserWarning: Gene association for reaction R_PFL is not DNF\n",
      "  warn(f\"Gene association for reaction {reaction_id} is not DNF\")\n",
      "/home/alexei/anaconda3/lib/python3.8/site-packages/reframed/io/sbml.py:512: UserWarning: Gene association for reaction R_RNDR1 is not DNF\n",
      "  warn(f\"Gene association for reaction {reaction_id} is not DNF\")\n",
      "/home/alexei/anaconda3/lib/python3.8/site-packages/reframed/io/sbml.py:512: UserWarning: Gene association for reaction R_RNDR3 is not DNF\n",
      "  warn(f\"Gene association for reaction {reaction_id} is not DNF\")\n",
      "/home/alexei/anaconda3/lib/python3.8/site-packages/reframed/io/sbml.py:512: UserWarning: Gene association for reaction R_RNDR4 is not DNF\n",
      "  warn(f\"Gene association for reaction {reaction_id} is not DNF\")\n",
      "/home/alexei/anaconda3/lib/python3.8/site-packages/reframed/io/sbml.py:512: UserWarning: Gene association for reaction R_CITL is not DNF\n",
      "  warn(f\"Gene association for reaction {reaction_id} is not DNF\")\n",
      "/home/alexei/anaconda3/lib/python3.8/site-packages/reframed/io/sbml.py:512: UserWarning: Gene association for reaction R_NO3R1bpp is not DNF\n",
      "  warn(f\"Gene association for reaction {reaction_id} is not DNF\")\n",
      "/home/alexei/anaconda3/lib/python3.8/site-packages/reframed/io/sbml.py:512: UserWarning: Gene association for reaction R_NO3R2bpp is not DNF\n",
      "  warn(f\"Gene association for reaction {reaction_id} is not DNF\")\n",
      "/home/alexei/anaconda3/lib/python3.8/site-packages/reframed/io/sbml.py:512: UserWarning: Gene association for reaction R_ATPS4rpp is not DNF\n",
      "  warn(f\"Gene association for reaction {reaction_id} is not DNF\")\n",
      "/home/alexei/anaconda3/lib/python3.8/site-packages/reframed/io/sbml.py:512: UserWarning: Gene association for reaction R_CPGNtonex is not DNF\n",
      "  warn(f\"Gene association for reaction {reaction_id} is not DNF\")\n",
      "/home/alexei/anaconda3/lib/python3.8/site-packages/reframed/io/sbml.py:512: UserWarning: Gene association for reaction R_FE3DCITtonex is not DNF\n",
      "  warn(f\"Gene association for reaction {reaction_id} is not DNF\")\n",
      "/home/alexei/anaconda3/lib/python3.8/site-packages/reframed/io/sbml.py:512: UserWarning: Gene association for reaction R_FEENTERtonex is not DNF\n",
      "  warn(f\"Gene association for reaction {reaction_id} is not DNF\")\n",
      "/home/alexei/anaconda3/lib/python3.8/site-packages/reframed/io/sbml.py:512: UserWarning: Gene association for reaction R_RNDR3b is not DNF\n",
      "  warn(f\"Gene association for reaction {reaction_id} is not DNF\")\n",
      "/home/alexei/anaconda3/lib/python3.8/site-packages/reframed/io/sbml.py:512: UserWarning: Gene association for reaction R_RNDR4b is not DNF\n",
      "  warn(f\"Gene association for reaction {reaction_id} is not DNF\")\n",
      "/home/alexei/anaconda3/lib/python3.8/site-packages/reframed/io/sbml.py:512: UserWarning: Gene association for reaction R_RNDR1b is not DNF\n",
      "  warn(f\"Gene association for reaction {reaction_id} is not DNF\")\n",
      "/home/alexei/anaconda3/lib/python3.8/site-packages/reframed/io/sbml.py:512: UserWarning: Gene association for reaction R_RNDR2b is not DNF\n",
      "  warn(f\"Gene association for reaction {reaction_id} is not DNF\")\n",
      "/home/alexei/anaconda3/lib/python3.8/site-packages/reframed/io/sbml.py:512: UserWarning: Gene association for reaction R_INDOLEt2pp is not DNF\n",
      "  warn(f\"Gene association for reaction {reaction_id} is not DNF\")\n",
      "/home/alexei/anaconda3/lib/python3.8/site-packages/reframed/io/sbml.py:512: UserWarning: Gene association for reaction R_FECRMtonex is not DNF\n",
      "  warn(f\"Gene association for reaction {reaction_id} is not DNF\")\n",
      "/home/alexei/anaconda3/lib/python3.8/site-packages/reframed/io/sbml.py:512: UserWarning: Gene association for reaction R_FE3HOXtonex is not DNF\n",
      "  warn(f\"Gene association for reaction {reaction_id} is not DNF\")\n",
      "/home/alexei/anaconda3/lib/python3.8/site-packages/reframed/io/sbml.py:512: UserWarning: Gene association for reaction R_FHL is not DNF\n",
      "  warn(f\"Gene association for reaction {reaction_id} is not DNF\")\n",
      "/home/alexei/anaconda3/lib/python3.8/site-packages/reframed/io/sbml.py:512: UserWarning: Gene association for reaction R_RNDR2 is not DNF\n",
      "  warn(f\"Gene association for reaction {reaction_id} is not DNF\")\n",
      "/home/alexei/anaconda3/lib/python3.8/site-packages/reframed/io/sbml.py:512: UserWarning: Gene association for reaction R_CELBpts is not DNF\n",
      "  warn(f\"Gene association for reaction {reaction_id} is not DNF\")\n",
      "/home/alexei/anaconda3/lib/python3.8/site-packages/reframed/io/sbml.py:512: UserWarning: Gene association for reaction R_FE3DHBZStonex is not DNF\n",
      "  warn(f\"Gene association for reaction {reaction_id} is not DNF\")\n",
      "/home/alexei/anaconda3/lib/python3.8/site-packages/reframed/io/sbml.py:512: UserWarning: Gene association for reaction R_FEOXAMtonex is not DNF\n",
      "  warn(f\"Gene association for reaction {reaction_id} is not DNF\")\n",
      "/home/alexei/anaconda3/lib/python3.8/site-packages/reframed/io/sbml.py:512: UserWarning: Gene association for reaction R_OBTFL is not DNF\n",
      "  warn(f\"Gene association for reaction {reaction_id} is not DNF\")\n",
      "/home/alexei/anaconda3/lib/python3.8/site-packages/reframed/io/sbml.py:512: UserWarning: Gene association for reaction R_CHTBSptspp is not DNF\n",
      "  warn(f\"Gene association for reaction {reaction_id} is not DNF\")\n",
      "/home/alexei/anaconda3/lib/python3.8/site-packages/reframed/io/sbml.py:512: UserWarning: Gene association for reaction R_CBL1tonex is not DNF\n",
      "  warn(f\"Gene association for reaction {reaction_id} is not DNF\")\n",
      "/home/alexei/anaconda3/lib/python3.8/site-packages/reframed/io/sbml.py:512: UserWarning: Gene association for reaction R_CBItonex is not DNF\n",
      "  warn(f\"Gene association for reaction {reaction_id} is not DNF\")\n",
      "/home/alexei/anaconda3/lib/python3.8/site-packages/reframed/io/sbml.py:512: UserWarning: Gene association for reaction R_ADOCBLtonex is not DNF\n",
      "  warn(f\"Gene association for reaction {reaction_id} is not DNF\")\n",
      "/home/alexei/anaconda3/lib/python3.8/site-packages/reframed/io/sbml.py:512: UserWarning: Gene association for reaction R_ADNCYC is not DNF\n",
      "  warn(f\"Gene association for reaction {reaction_id} is not DNF\")\n",
      "/home/alexei/anaconda3/lib/python3.8/site-packages/reframed/io/sbml.py:512: UserWarning: Gene association for reaction R_Kabc is not DNF\n",
      "  warn(f\"Gene association for reaction {reaction_id} is not DNF\")\n",
      "/home/alexei/anaconda3/lib/python3.8/site-packages/reframed/io/sbml.py:512: UserWarning: Gene association for reaction R_LPLIPAL2E180 is not DNF\n",
      "  warn(f\"Gene association for reaction {reaction_id} is not DNF\")\n",
      "/home/alexei/anaconda3/lib/python3.8/site-packages/reframed/io/sbml.py:512: UserWarning: Gene association for reaction R_PDH is not DNF\n",
      "  warn(f\"Gene association for reaction {reaction_id} is not DNF\")\n",
      "/home/alexei/anaconda3/lib/python3.8/site-packages/reframed/io/sbml.py:512: UserWarning: Gene association for reaction R_PDHa is not DNF\n",
      "  warn(f\"Gene association for reaction {reaction_id} is not DNF\")\n",
      "/home/alexei/anaconda3/lib/python3.8/site-packages/reframed/io/sbml.py:512: UserWarning: Gene association for reaction R_TDPGDH is not DNF\n",
      "  warn(f\"Gene association for reaction {reaction_id} is not DNF\")\n",
      "/home/alexei/anaconda3/lib/python3.8/site-packages/reframed/io/sbml.py:512: UserWarning: Gene association for reaction R_FAD_5 is not DNF\n",
      "  warn(f\"Gene association for reaction {reaction_id} is not DNF\")\n",
      "/home/alexei/anaconda3/lib/python3.8/site-packages/reframed/io/sbml.py:512: UserWarning: Gene association for reaction R_FAD_6 is not DNF\n",
      "  warn(f\"Gene association for reaction {reaction_id} is not DNF\")\n",
      "/home/alexei/anaconda3/lib/python3.8/site-packages/reframed/io/sbml.py:512: UserWarning: Gene association for reaction R_FAD_7 is not DNF\n",
      "  warn(f\"Gene association for reaction {reaction_id} is not DNF\")\n",
      "/home/alexei/anaconda3/lib/python3.8/site-packages/reframed/io/sbml.py:512: UserWarning: Gene association for reaction R_FAD_8 is not DNF\n",
      "  warn(f\"Gene association for reaction {reaction_id} is not DNF\")\n",
      "/home/alexei/anaconda3/lib/python3.8/site-packages/reframed/io/sbml.py:512: UserWarning: Gene association for reaction R_FAD_9 is not DNF\n",
      "  warn(f\"Gene association for reaction {reaction_id} is not DNF\")\n",
      "/home/alexei/anaconda3/lib/python3.8/site-packages/reframed/io/sbml.py:512: UserWarning: Gene association for reaction R_FAD_10 is not DNF\n",
      "  warn(f\"Gene association for reaction {reaction_id} is not DNF\")\n",
      "/home/alexei/anaconda3/lib/python3.8/site-packages/reframed/io/sbml.py:512: UserWarning: Gene association for reaction R_FAD_11 is not DNF\n",
      "  warn(f\"Gene association for reaction {reaction_id} is not DNF\")\n",
      "/home/alexei/anaconda3/lib/python3.8/site-packages/reframed/io/sbml.py:512: UserWarning: Gene association for reaction R_FAD_12 is not DNF\n",
      "  warn(f\"Gene association for reaction {reaction_id} is not DNF\")\n",
      "/home/alexei/anaconda3/lib/python3.8/site-packages/reframed/io/sbml.py:512: UserWarning: Gene association for reaction R_FAD_13 is not DNF\n",
      "  warn(f\"Gene association for reaction {reaction_id} is not DNF\")\n",
      "/home/alexei/anaconda3/lib/python3.8/site-packages/reframed/io/sbml.py:512: UserWarning: Gene association for reaction R_FAD_14 is not DNF\n",
      "  warn(f\"Gene association for reaction {reaction_id} is not DNF\")\n",
      "/home/alexei/anaconda3/lib/python3.8/site-packages/reframed/io/sbml.py:512: UserWarning: Gene association for reaction R_FAD_15 is not DNF\n",
      "  warn(f\"Gene association for reaction {reaction_id} is not DNF\")\n",
      "/home/alexei/anaconda3/lib/python3.8/site-packages/reframed/io/sbml.py:512: UserWarning: Gene association for reaction R_FAD_16 is not DNF\n",
      "  warn(f\"Gene association for reaction {reaction_id} is not DNF\")\n",
      "/home/alexei/anaconda3/lib/python3.8/site-packages/reframed/io/sbml.py:512: UserWarning: Gene association for reaction R_CPMPS is not DNF\n",
      "  warn(f\"Gene association for reaction {reaction_id} is not DNF\")\n",
      "/home/alexei/anaconda3/lib/python3.8/site-packages/reframed/io/sbml.py:512: UserWarning: Gene association for reaction R_FAD_17 is not DNF\n",
      "  warn(f\"Gene association for reaction {reaction_id} is not DNF\")\n",
      "/home/alexei/anaconda3/lib/python3.8/site-packages/reframed/io/sbml.py:512: UserWarning: Gene association for reaction R_FAD_20 is not DNF\n",
      "  warn(f\"Gene association for reaction {reaction_id} is not DNF\")\n",
      "/home/alexei/anaconda3/lib/python3.8/site-packages/reframed/io/sbml.py:512: UserWarning: Gene association for reaction R_FAD_18 is not DNF\n",
      "  warn(f\"Gene association for reaction {reaction_id} is not DNF\")\n",
      "/home/alexei/anaconda3/lib/python3.8/site-packages/reframed/io/sbml.py:512: UserWarning: Gene association for reaction R_FAD_19 is not DNF\n",
      "  warn(f\"Gene association for reaction {reaction_id} is not DNF\")\n",
      "/home/alexei/anaconda3/lib/python3.8/site-packages/reframed/io/sbml.py:512: UserWarning: Gene association for reaction R_FAD_1 is not DNF\n",
      "  warn(f\"Gene association for reaction {reaction_id} is not DNF\")\n",
      "/home/alexei/anaconda3/lib/python3.8/site-packages/reframed/io/sbml.py:512: UserWarning: Gene association for reaction R_FAD_2 is not DNF\n",
      "  warn(f\"Gene association for reaction {reaction_id} is not DNF\")\n",
      "/home/alexei/anaconda3/lib/python3.8/site-packages/reframed/io/sbml.py:512: UserWarning: Gene association for reaction R_FAD_3 is not DNF\n",
      "  warn(f\"Gene association for reaction {reaction_id} is not DNF\")\n",
      "/home/alexei/anaconda3/lib/python3.8/site-packages/reframed/io/sbml.py:512: UserWarning: Gene association for reaction R_FAD_4 is not DNF\n",
      "  warn(f\"Gene association for reaction {reaction_id} is not DNF\")\n",
      "/home/alexei/anaconda3/lib/python3.8/site-packages/reframed/io/sbml.py:512: UserWarning: Gene association for reaction R_FAD_25 is not DNF\n",
      "  warn(f\"Gene association for reaction {reaction_id} is not DNF\")\n",
      "/home/alexei/anaconda3/lib/python3.8/site-packages/reframed/io/sbml.py:512: UserWarning: Gene association for reaction R_FAD_26 is not DNF\n",
      "  warn(f\"Gene association for reaction {reaction_id} is not DNF\")\n",
      "/home/alexei/anaconda3/lib/python3.8/site-packages/reframed/io/sbml.py:512: UserWarning: Gene association for reaction R_FAD_27 is not DNF\n",
      "  warn(f\"Gene association for reaction {reaction_id} is not DNF\")\n",
      "/home/alexei/anaconda3/lib/python3.8/site-packages/reframed/io/sbml.py:512: UserWarning: Gene association for reaction R_FAD_21 is not DNF\n",
      "  warn(f\"Gene association for reaction {reaction_id} is not DNF\")\n",
      "/home/alexei/anaconda3/lib/python3.8/site-packages/reframed/io/sbml.py:512: UserWarning: Gene association for reaction R_FAD_22 is not DNF\n",
      "  warn(f\"Gene association for reaction {reaction_id} is not DNF\")\n",
      "/home/alexei/anaconda3/lib/python3.8/site-packages/reframed/io/sbml.py:512: UserWarning: Gene association for reaction R_FAD_23 is not DNF\n",
      "  warn(f\"Gene association for reaction {reaction_id} is not DNF\")\n",
      "/home/alexei/anaconda3/lib/python3.8/site-packages/reframed/io/sbml.py:512: UserWarning: Gene association for reaction R_FAD_24 is not DNF\n",
      "  warn(f\"Gene association for reaction {reaction_id} is not DNF\")\n",
      "/home/alexei/anaconda3/lib/python3.8/site-packages/reframed/io/sbml.py:512: UserWarning: Gene association for reaction R_MOAE1 is not DNF\n",
      "  warn(f\"Gene association for reaction {reaction_id} is not DNF\")\n",
      "/home/alexei/anaconda3/lib/python3.8/site-packages/reframed/io/sbml.py:512: UserWarning: Gene association for reaction R_PHEMEt is not DNF\n",
      "  warn(f\"Gene association for reaction {reaction_id} is not DNF\")\n"
     ]
    },
    {
     "name": "stderr",
     "output_type": "stream",
     "text": [
      "/home/alexei/anaconda3/lib/python3.8/site-packages/reframed/io/sbml.py:512: UserWarning: Gene association for reaction R_ACACT1r is not DNF\n",
      "  warn(f\"Gene association for reaction {reaction_id} is not DNF\")\n",
      "/home/alexei/anaconda3/lib/python3.8/site-packages/reframed/io/sbml.py:512: UserWarning: Gene association for reaction R_ACACT2r is not DNF\n",
      "  warn(f\"Gene association for reaction {reaction_id} is not DNF\")\n",
      "/home/alexei/anaconda3/lib/python3.8/site-packages/reframed/io/sbml.py:512: UserWarning: Gene association for reaction R_ACCOAC is not DNF\n",
      "  warn(f\"Gene association for reaction {reaction_id} is not DNF\")\n",
      "/home/alexei/anaconda3/lib/python3.8/site-packages/reframed/io/sbml.py:512: UserWarning: Gene association for reaction R_ACHBS is not DNF\n",
      "  warn(f\"Gene association for reaction {reaction_id} is not DNF\")\n",
      "/home/alexei/anaconda3/lib/python3.8/site-packages/reframed/io/sbml.py:512: UserWarning: Gene association for reaction R_ACLS is not DNF\n",
      "  warn(f\"Gene association for reaction {reaction_id} is not DNF\")\n",
      "/home/alexei/anaconda3/lib/python3.8/site-packages/reframed/io/sbml.py:512: UserWarning: Gene association for reaction R_GLUSx is not DNF\n",
      "  warn(f\"Gene association for reaction {reaction_id} is not DNF\")\n",
      "/home/alexei/anaconda3/lib/python3.8/site-packages/reframed/io/sbml.py:512: UserWarning: Gene association for reaction R_NAt3_1_copy1 is not DNF\n",
      "  warn(f\"Gene association for reaction {reaction_id} is not DNF\")\n",
      "/home/alexei/anaconda3/lib/python3.8/site-packages/reframed/io/sbml.py:512: UserWarning: Gene association for reaction R_METTRS is not DNF\n",
      "  warn(f\"Gene association for reaction {reaction_id} is not DNF\")\n",
      "/home/alexei/anaconda3/lib/python3.8/site-packages/reframed/io/sbml.py:512: UserWarning: Gene association for reaction R_UAG2E is not DNF\n",
      "  warn(f\"Gene association for reaction {reaction_id} is not DNF\")\n",
      "/home/alexei/anaconda3/lib/python3.8/site-packages/reframed/io/sbml.py:512: UserWarning: Gene association for reaction R_UAG2EMA is not DNF\n",
      "  warn(f\"Gene association for reaction {reaction_id} is not DNF\")\n",
      "/home/alexei/anaconda3/lib/python3.8/site-packages/reframed/io/sbml.py:512: UserWarning: Gene association for reaction R_GLCpts is not DNF\n",
      "  warn(f\"Gene association for reaction {reaction_id} is not DNF\")\n",
      "/home/alexei/anaconda3/lib/python3.8/site-packages/reframed/io/sbml.py:512: UserWarning: Gene association for reaction R_ANS is not DNF\n",
      "  warn(f\"Gene association for reaction {reaction_id} is not DNF\")\n",
      "/home/alexei/anaconda3/lib/python3.8/site-packages/reframed/io/sbml.py:512: UserWarning: Gene association for reaction R_TECA2S is not DNF\n",
      "  warn(f\"Gene association for reaction {reaction_id} is not DNF\")\n",
      "/home/alexei/anaconda3/lib/python3.8/site-packages/reframed/io/sbml.py:512: UserWarning: Gene association for reaction R_KAS16 is not DNF\n",
      "  warn(f\"Gene association for reaction {reaction_id} is not DNF\")\n",
      "/home/alexei/anaconda3/lib/python3.8/site-packages/reframed/io/sbml.py:512: UserWarning: Gene association for reaction R_TECA1S is not DNF\n",
      "  warn(f\"Gene association for reaction {reaction_id} is not DNF\")\n",
      "/home/alexei/anaconda3/lib/python3.8/site-packages/reframed/io/sbml.py:512: UserWarning: Gene association for reaction R_TECA3S is not DNF\n",
      "  warn(f\"Gene association for reaction {reaction_id} is not DNF\")\n",
      "/home/alexei/anaconda3/lib/python3.8/site-packages/reframed/io/sbml.py:512: UserWarning: Gene association for reaction R_TECA4S is not DNF\n",
      "  warn(f\"Gene association for reaction {reaction_id} is not DNF\")\n"
     ]
    }
   ],
   "source": [
    "#Load modules \n",
    "iML1515_model=load_cbmodel('models/iML1515.xml')\n",
    "iJO1366_model=load_cbmodel('models/iJO1366.xml')\n",
    "iEK1008_model=load_cbmodel('models/iEK1008.xml')\n",
    "iSB619_model=load_cbmodel('models/iSB619.xml')\n",
    "iCN900_model=load_cbmodel('models/iCN900.xml')\n",
    "iML1515_KBase_model=load_cbmodel('models/iML1515_KBase.xml')\n",
    "iBsu1103_model=load_cbmodel('models/iBsu1103.xml')\n"
   ]
  },
  {
   "cell_type": "markdown",
   "id": "da0e6763",
   "metadata": {},
   "source": [
    "The following cell sets the enviromental conditions for the five models where the COBRApy media was reasonable (not iML1515-KBase or iBsu1103). "
   ]
  },
  {
   "cell_type": "code",
   "execution_count": 3,
   "id": "376ec590",
   "metadata": {},
   "outputs": [],
   "source": [
    "Environment.from_compounds([ \"glc__D\",\"pi\",'cl','o2','ni2','ca2','nh4','mg2','mn2','mobd','cu2','k','cobalt2','h','fe3','h2o','na1','fe2','so4','zn2','co2','sel','tungs','slnt']).apply(iML1515_model, exclusive=True, inplace=True)\n",
    "\n",
    "Environment.from_compounds([\"glc__D\", \"pi\",'cl','o2','ni2','ca2','nh4','mg2','mn2','mobd','cu2','k','cobalt2','cbl1','sel','h','fe3','co2','h2o','na1','slnt','tungs','fe2','so4','zn2']).apply(iJO1366_model, exclusive=True, inplace=True)\n",
    "\n",
    "Environment.from_compounds([\"mg2\",'nh4', 'o2','pi','asn__L','so4',\"ca2\",'cit','cl','fe3','h2o','glyc','h','chsterol','etoh']).apply(iEK1008_model, exclusive=True, inplace=True)\n",
    "\n",
    "Environment.from_compounds([\"csn\",'fe2', 'glc__D','h2o','h','nac','o2',\"pi\",'pro__L','so4','thm']).apply(iSB619_model, exclusive=True, inplace=True)\n",
    "\n",
    "Environment.from_compounds([\"leu__L\",'k', 'pydxn','fe2','ca2','ile__L',\"mg2\",'pro__L','pi','trp__L','met__L','cys__L','btn','pnto__R','na1','zn2','h','co2','val__L', 'h2o','sel','slnt','cobalt2']).apply(iCN900_model, exclusive=True, inplace=True)"
   ]
  },
  {
   "cell_type": "markdown",
   "id": "0dbb17ba",
   "metadata": {},
   "source": [
    "**The following 5 cells produce the biomass that results when essential reaction (1) PNTK is knocked out, (2) NADK is knocked out, (3) DAPDC is knocked out, (4) PGAMT is knocked out, and (5) METAT is knocked out. It is noted that the reaction names for the ModelSEED models are in the form rxn*xxxxx*.**"
   ]
  },
  {
   "cell_type": "markdown",
   "id": "920cc8a4",
   "metadata": {},
   "source": [
    "*cell 1*"
   ]
  },
  {
   "cell_type": "code",
   "execution_count": 4,
   "id": "4da3dfd9",
   "metadata": {},
   "outputs": [
    {
     "name": "stdout",
     "output_type": "stream",
     "text": [
      "iML1515 single knockout PNTK: \n",
      "Objective: 0.0\n",
      "Status: Optimal\n",
      " \n",
      "\n",
      "iJO1366 single knockout PNTK: \n",
      "Objective: 0.0\n",
      "Status: Optimal\n",
      " \n",
      "\n",
      "iEK1008 single knockout PNTK: \n",
      "Objective: 0.0\n",
      "Status: Optimal\n",
      " \n",
      "\n",
      "iSB619 single knockout PNTK: \n",
      "Objective: 0.0013075907171270396\n",
      "Status: Optimal\n",
      " \n",
      "\n",
      "iCN900 single knockout PNTK: \n",
      "Objective: 0.0\n",
      "Status: Optimal\n",
      " \n",
      "\n",
      "iML1515_KBase single knockout PNTK: \n",
      "Objective: None\n",
      "Status: Unbounded\n",
      "\n",
      "iBsu1103 single knockout PNTK: \n"
     ]
    },
    {
     "name": "stderr",
     "output_type": "stream",
     "text": [
      "/home/alexei/anaconda3/lib/python3.8/site-packages/reframed/solvers/cplex_solver.py:406: UserWarning: Constrained variable not previously declared: R_rxn12510\n",
      "  warn(f\"Constrained variable not previously declared: {r_id}\")\n"
     ]
    },
    {
     "name": "stdout",
     "output_type": "stream",
     "text": [
      "Objective: 0.0\n",
      "Status: Optimal\n",
      "\n"
     ]
    }
   ],
   "source": [
    "print(\"iML1515 single knockout PNTK: \")\n",
    "print(reaction_knockout(iML1515_model, [\"R_PNTK\"]), '\\n')\n",
    "print(\"iJO1366 single knockout PNTK: \")\n",
    "print(reaction_knockout(iJO1366_model, [\"R_PNTK\"]), '\\n')\n",
    "print(\"iEK1008 single knockout PNTK: \")\n",
    "print(reaction_knockout(iEK1008_model, [\"R_PNTK\"]), '\\n')\n",
    "print(\"iSB619 single knockout PNTK: \")\n",
    "print(reaction_knockout(iSB619_model, [\"R_PNTK\"]), '\\n')\n",
    "print(\"iCN900 single knockout PNTK: \")\n",
    "print(reaction_knockout(iCN900_model, [\"R_PNTK\"]), '\\n')\n",
    "print(\"iML1515_KBase single knockout PNTK: \")\n",
    "print(reaction_knockout(iML1515_KBase_model, [\"R_rxn12510\"]))\n",
    "print(\"iBsu1103 single knockout PNTK: \")\n",
    "print(reaction_knockout(iBsu1103_model, [\"R_rxn12510\"]))"
   ]
  },
  {
   "cell_type": "code",
   "execution_count": 5,
   "id": "7d19813b",
   "metadata": {},
   "outputs": [
    {
     "data": {
      "text/plain": [
       "R_rxn12510: M_cpd00002_c + M_cpd00644_c <-> M_cpd00008_c + M_cpd02201_c"
      ]
     },
     "execution_count": 5,
     "metadata": {},
     "output_type": "execute_result"
    }
   ],
   "source": [
    "iBsu1103_model.reactions.R_rxn12510"
   ]
  },
  {
   "cell_type": "code",
   "execution_count": 6,
   "id": "fc66a03c",
   "metadata": {},
   "outputs": [
    {
     "data": {
      "text/plain": [
       "R_rxn00077: M_cpd00002_c + M_cpd00003_c <-> M_cpd00006_c + M_cpd00008_c"
      ]
     },
     "execution_count": 6,
     "metadata": {},
     "output_type": "execute_result"
    }
   ],
   "source": [
    "iBsu1103_model.reactions.R_rxn00077"
   ]
  },
  {
   "cell_type": "code",
   "execution_count": 7,
   "id": "539445cc",
   "metadata": {},
   "outputs": [
    {
     "data": {
      "text/plain": [
       "R_rxn00313: M_cpd00067_c + M_cpd00516_c --> M_cpd00011_c + M_cpd00039_c"
      ]
     },
     "execution_count": 7,
     "metadata": {},
     "output_type": "execute_result"
    }
   ],
   "source": [
    "iBsu1103_model.reactions.R_rxn00313"
   ]
  },
  {
   "cell_type": "code",
   "execution_count": 8,
   "id": "d60019ca",
   "metadata": {},
   "outputs": [
    {
     "data": {
      "text/plain": [
       "R_rxn00126: M_cpd00001_c + M_cpd00002_c + M_cpd00060_c --> M_cpd00009_c + M_cpd00012_c + M_cpd00017_c"
      ]
     },
     "execution_count": 8,
     "metadata": {},
     "output_type": "execute_result"
    }
   ],
   "source": [
    "iBsu1103_model.reactions.R_rxn00126"
   ]
  },
  {
   "cell_type": "code",
   "execution_count": 9,
   "id": "ea6e1aeb",
   "metadata": {},
   "outputs": [
    {
     "data": {
      "text/plain": [
       "R_rxn01485: M_cpd03671_c <-> M_cpd00288_c"
      ]
     },
     "execution_count": 9,
     "metadata": {},
     "output_type": "execute_result"
    }
   ],
   "source": [
    "iBsu1103_model.reactions.R_rxn01485"
   ]
  },
  {
   "cell_type": "code",
   "execution_count": 10,
   "id": "4eb4efba",
   "metadata": {},
   "outputs": [
    {
     "data": {
      "text/plain": [
       "R_NADK: M_atp_c + M_nad_c --> M_adp_c + M_h_c + M_nadp_c"
      ]
     },
     "execution_count": 10,
     "metadata": {},
     "output_type": "execute_result"
    }
   ],
   "source": [
    "iML1515_model.reactions.R_NADK"
   ]
  },
  {
   "cell_type": "markdown",
   "id": "469ec309",
   "metadata": {},
   "source": [
    "*cell 2* "
   ]
  },
  {
   "cell_type": "code",
   "execution_count": 11,
   "id": "f895b787",
   "metadata": {},
   "outputs": [
    {
     "name": "stdout",
     "output_type": "stream",
     "text": [
      "iML1515 single knockout NADK: \n",
      "Objective: 0.0\n",
      "Status: Optimal\n",
      " \n",
      "\n",
      "iJO1366 single knockout NADK: \n",
      "Objective: 0.0\n",
      "Status: Optimal\n",
      " \n",
      "\n",
      "iEK1008 single knockout NADK: \n",
      "Objective: 0.0\n",
      "Status: Optimal\n",
      " \n",
      "\n",
      "iSB619 single knockout NADK: \n",
      "Objective: 0.0\n",
      "Status: Optimal\n",
      " \n",
      "\n",
      "iCN900 single knockout NADK: \n",
      "Objective: 0.0\n",
      "Status: Optimal\n",
      " \n",
      "\n",
      "iML1515_KBase single knockout NADK: \n",
      "Objective: None\n",
      "Status: Unbounded\n",
      "\n",
      "iBsu1103 single knockout NADK: \n"
     ]
    },
    {
     "name": "stderr",
     "output_type": "stream",
     "text": [
      "/home/alexei/anaconda3/lib/python3.8/site-packages/reframed/solvers/cplex_solver.py:406: UserWarning: Constrained variable not previously declared: R_rxn00077\n",
      "  warn(f\"Constrained variable not previously declared: {r_id}\")\n"
     ]
    },
    {
     "name": "stdout",
     "output_type": "stream",
     "text": [
      "Objective: None\n",
      "Status: Unbounded\n",
      "\n"
     ]
    }
   ],
   "source": [
    "print(\"iML1515 single knockout NADK: \")\n",
    "print(reaction_knockout(iML1515_model, [\"R_NADK\"]), '\\n')\n",
    "print(\"iJO1366 single knockout NADK: \")\n",
    "print(reaction_knockout(iJO1366_model, [\"R_NADK\"]), '\\n')\n",
    "print(\"iEK1008 single knockout NADK: \")\n",
    "print(reaction_knockout(iEK1008_model, [\"R_NADK\"]), '\\n')\n",
    "print(\"iSB619 single knockout NADK: \")\n",
    "print(reaction_knockout(iSB619_model, [\"R_NADK\"]), '\\n')\n",
    "print(\"iCN900 single knockout NADK: \")\n",
    "print(reaction_knockout(iCN900_model, [\"R_NADK\"]), '\\n')\n",
    "print(\"iML1515_KBase single knockout NADK: \")\n",
    "print(reaction_knockout(iML1515_KBase_model, [\"R_rxn00077\"]))\n",
    "print(\"iBsu1103 single knockout NADK: \")\n",
    "print(reaction_knockout(iBsu1103_model, [\"R_rxn00077\"]))"
   ]
  },
  {
   "cell_type": "markdown",
   "id": "dcdc7ba6",
   "metadata": {},
   "source": [
    "*cell 3*"
   ]
  },
  {
   "cell_type": "code",
   "execution_count": 12,
   "id": "9c91e993",
   "metadata": {},
   "outputs": [
    {
     "name": "stdout",
     "output_type": "stream",
     "text": [
      "iML1515 single knockout DAPDC: \n",
      "Objective: 0.0\n",
      "Status: Optimal\n",
      " \n",
      "\n",
      "iJO1366 single knockout DAPDC: \n",
      "Objective: 0.0\n",
      "Status: Optimal\n",
      " \n",
      "\n",
      "iEK1008 single knockout DAPDC: \n",
      "Objective: 0.0\n",
      "Status: Optimal\n",
      " \n",
      "\n",
      "iSB619  single knockout DAPDC: \n",
      "Objective: 0.0\n",
      "Status: Optimal\n",
      " \n",
      "\n",
      "iCN900 single knockout DAPDC: \n",
      "Objective: 0.0\n",
      "Status: Optimal\n",
      " \n",
      "\n",
      "iML1515_KBase single knockout DAPDC: \n",
      "Objective: None\n",
      "Status: Unbounded\n",
      "\n",
      "iBsu1103 single knockout DAPDC: \n"
     ]
    },
    {
     "name": "stderr",
     "output_type": "stream",
     "text": [
      "/home/alexei/anaconda3/lib/python3.8/site-packages/reframed/solvers/cplex_solver.py:406: UserWarning: Constrained variable not previously declared: R_rxn00313\n",
      "  warn(f\"Constrained variable not previously declared: {r_id}\")\n"
     ]
    },
    {
     "name": "stdout",
     "output_type": "stream",
     "text": [
      "Objective: None\n",
      "Status: Unbounded\n",
      "\n"
     ]
    }
   ],
   "source": [
    "print(\"iML1515 single knockout DAPDC: \")\n",
    "print(reaction_knockout(iML1515_model, [\"R_DAPDC\"]), '\\n')\n",
    "print(\"iJO1366 single knockout DAPDC: \")\n",
    "print(reaction_knockout(iJO1366_model, [\"R_DAPDC\"]), '\\n')\n",
    "print(\"iEK1008 single knockout DAPDC: \")\n",
    "print(reaction_knockout(iEK1008_model, [\"R_DAPDC\"]), '\\n')\n",
    "print(\"iSB619  single knockout DAPDC: \")\n",
    "print(reaction_knockout(iSB619_model, [\"R_DAPDC\"]), '\\n')\n",
    "print(\"iCN900 single knockout DAPDC: \")\n",
    "print(reaction_knockout(iCN900_model, [\"R_DAPDC\"]), '\\n')\n",
    "print(\"iML1515_KBase single knockout DAPDC: \")\n",
    "print(reaction_knockout(iML1515_KBase_model, [\"R_rxn00313\"]))\n",
    "print(\"iBsu1103 single knockout DAPDC: \")\n",
    "print(reaction_knockout(iBsu1103_model, [\"R_rxn00313\"]))"
   ]
  },
  {
   "cell_type": "markdown",
   "id": "d204d0eb",
   "metadata": {},
   "source": [
    "*cell 4*"
   ]
  },
  {
   "cell_type": "code",
   "execution_count": 13,
   "id": "5e23ffb4",
   "metadata": {},
   "outputs": [
    {
     "name": "stdout",
     "output_type": "stream",
     "text": [
      "iML1515 single knockout PGAMT: \n",
      "Objective: 0.0\n",
      "Status: Optimal\n",
      " \n",
      "\n",
      "iJO1366 single knockout PGAMT: \n",
      "Objective: 0.0\n",
      "Status: Optimal\n",
      " \n",
      "\n",
      "iEK1008 single knockout PGAMT: \n",
      "Objective: 0.0\n",
      "Status: Optimal\n",
      " \n",
      "\n",
      "iSB619 single knockout PGAMT: \n",
      "Objective: 0.0\n",
      "Status: Optimal\n",
      " \n",
      "\n",
      "iCN900 single knockout PGAMT: \n",
      "Objective: 0.0\n",
      "Status: Optimal\n",
      " \n",
      "\n",
      "iML1515_KBase single knockout PGAMT: \n",
      "Objective: None\n",
      "Status: Unbounded\n",
      "\n",
      "iBsu1103 single knockout PGAMT: \n"
     ]
    },
    {
     "name": "stderr",
     "output_type": "stream",
     "text": [
      "/home/alexei/anaconda3/lib/python3.8/site-packages/reframed/solvers/cplex_solver.py:406: UserWarning: Constrained variable not previously declared: R_rxn01485\n",
      "  warn(f\"Constrained variable not previously declared: {r_id}\")\n"
     ]
    },
    {
     "name": "stdout",
     "output_type": "stream",
     "text": [
      "Objective: None\n",
      "Status: Unbounded\n",
      "\n"
     ]
    }
   ],
   "source": [
    "print(\"iML1515 single knockout PGAMT: \")\n",
    "print(reaction_knockout(iML1515_model, [\"R_PGAMT\"]), '\\n')\n",
    "print(\"iJO1366 single knockout PGAMT: \")\n",
    "print(reaction_knockout(iJO1366_model, [\"R_PGAMT\"]), '\\n')\n",
    "print(\"iEK1008 single knockout PGAMT: \")\n",
    "print(reaction_knockout(iEK1008_model, [\"R_PGAMT\"]), '\\n')\n",
    "print(\"iSB619 single knockout PGAMT: \")\n",
    "print(reaction_knockout(iSB619_model, [\"R_PGAMT\"]), '\\n')\n",
    "print(\"iCN900 single knockout PGAMT: \")\n",
    "print(reaction_knockout(iCN900_model, [\"R_PGAMT\"]), '\\n')\n",
    "print(\"iML1515_KBase single knockout PGAMT: \")\n",
    "print(reaction_knockout(iML1515_KBase_model, [\"R_rxn01485\"]))\n",
    "print(\"iBsu1103 single knockout PGAMT: \")\n",
    "print(reaction_knockout(iBsu1103_model, [\"R_rxn01485\"]))"
   ]
  },
  {
   "cell_type": "markdown",
   "id": "64e2513d",
   "metadata": {},
   "source": [
    "*cell 5*"
   ]
  },
  {
   "cell_type": "code",
   "execution_count": 14,
   "id": "179ec231",
   "metadata": {},
   "outputs": [
    {
     "name": "stdout",
     "output_type": "stream",
     "text": [
      "iML1515 single knockout METAT: \n",
      "Objective: 0.0\n",
      "Status: Optimal\n",
      " \n",
      "\n",
      "iJO1366 single knockout METAT: \n",
      "Objective: 0.0\n",
      "Status: Optimal\n",
      " \n",
      "\n",
      "iEK1008 single knockout METAT: \n",
      "Objective: 0.0\n",
      "Status: Optimal\n",
      " \n",
      "\n",
      "iSB619 single knockout METAT: \n",
      "Objective: 0.0\n",
      "Status: Optimal\n",
      " \n",
      "\n",
      "iCN900 single knockout METAT: \n",
      "Objective: 0.0\n",
      "Status: Optimal\n",
      " \n",
      "\n",
      "iML1515_KBase single knockout METAT: \n",
      "Objective: None\n",
      "Status: Unbounded\n",
      " \n",
      "\n",
      "iBsu1103 single knockout METAT: \n"
     ]
    },
    {
     "name": "stderr",
     "output_type": "stream",
     "text": [
      "/home/alexei/anaconda3/lib/python3.8/site-packages/reframed/solvers/cplex_solver.py:406: UserWarning: Constrained variable not previously declared: R_rxn00126\n",
      "  warn(f\"Constrained variable not previously declared: {r_id}\")\n"
     ]
    },
    {
     "name": "stdout",
     "output_type": "stream",
     "text": [
      "Objective: 0.0\n",
      "Status: Optimal\n",
      " \n",
      "\n"
     ]
    }
   ],
   "source": [
    "print(\"iML1515 single knockout METAT: \")\n",
    "print(reaction_knockout(iML1515_model, [\"R_METAT\"]), '\\n')\n",
    "print(\"iJO1366 single knockout METAT: \")\n",
    "print(reaction_knockout(iJO1366_model, [\"R_METAT\"]), '\\n')\n",
    "print(\"iEK1008 single knockout METAT: \")\n",
    "print(reaction_knockout(iEK1008_model, [\"R_METAT\"]), '\\n')\n",
    "print(\"iSB619 single knockout METAT: \")\n",
    "print(reaction_knockout(iSB619_model, [\"R_METAT\"]), '\\n')\n",
    "print(\"iCN900 single knockout METAT: \")\n",
    "print(reaction_knockout(iCN900_model, [\"R_METAT\"]), '\\n')\n",
    "print(\"iML1515_KBase single knockout METAT: \")\n",
    "print(reaction_knockout(iML1515_KBase_model, [\"R_rxn00126\"]), '\\n')\n",
    "print(\"iBsu1103 single knockout METAT: \")\n",
    "print(reaction_knockout(iBsu1103_model, [\"R_rxn00126\"]), '\\n')"
   ]
  }
 ],
 "metadata": {
  "kernelspec": {
   "display_name": "Python 3 (ipykernel)",
   "language": "python",
   "name": "python3"
  },
  "language_info": {
   "codemirror_mode": {
    "name": "ipython",
    "version": 3
   },
   "file_extension": ".py",
   "mimetype": "text/x-python",
   "name": "python",
   "nbconvert_exporter": "python",
   "pygments_lexer": "ipython3",
   "version": "3.8.11"
  }
 },
 "nbformat": 4,
 "nbformat_minor": 5
}
