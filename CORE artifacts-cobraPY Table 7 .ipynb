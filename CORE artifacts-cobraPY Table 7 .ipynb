{
 "cells": [
  {
   "cell_type": "markdown",
   "id": "60cc1245",
   "metadata": {},
   "source": [
    "This notebook produces COBRApy's reaction knockouts results in Table 7. The medias used were COBRApy's model medias (see the paper). Dependencies are listed in the readme. This notebook assumes COBRApy is installed as well as a solver. (See readme). "
   ]
  },
  {
   "cell_type": "code",
   "execution_count": 1,
   "id": "a6e992e6",
   "metadata": {},
   "outputs": [],
   "source": [
    "#Import require modules \n",
    "import cobra\n",
    "from cobra.io import read_sbml_model\n",
    "from cobra.flux_analysis import single_reaction_deletion"
   ]
  },
  {
   "cell_type": "code",
   "execution_count": 2,
   "id": "1132df51",
   "metadata": {},
   "outputs": [],
   "source": [
    "#Load models \n",
    "iML1515_model=read_sbml_model('models/iML1515.xml')\n",
    "iJO1366_model=read_sbml_model('models/iJO1366.xml')\n",
    "iEK1008_model=read_sbml_model('models/iEK1008.xml')\n",
    "iSB619_model=read_sbml_model('models/iSB619.xml')\n",
    "iCN900_model=read_sbml_model('models/iCN900.xml')\n",
    "iML1515_KBase_model=read_sbml_model('models/iML1515_KBase.xml')\n",
    "iBsu1103_model=read_sbml_model('models/iBsu1103.xml')"
   ]
  },
  {
   "cell_type": "markdown",
   "id": "3514e81d",
   "metadata": {},
   "source": [
    "**The following cell creates all potential single knockouts for each of the models.**"
   ]
  },
  {
   "cell_type": "code",
   "execution_count": 3,
   "id": "415677c3",
   "metadata": {},
   "outputs": [],
   "source": [
    "iML1515_single = single_reaction_deletion(iML1515_model)\n",
    "iJO1366_single = single_reaction_deletion(iJO1366_model)\n",
    "iEK1008_single = single_reaction_deletion(iEK1008_model)\n",
    "iSB619_single = single_reaction_deletion(iSB619_model)\n",
    "iCN900_single = single_reaction_deletion(iCN900_model)\n",
    "iML1515_KBase_single = single_reaction_deletion(iML1515_KBase_model)\n",
    "iBsu1103_single = single_reaction_deletion(iBsu1103_model)"
   ]
  },
  {
   "cell_type": "markdown",
   "id": "8064f8ea",
   "metadata": {},
   "source": [
    "**The following 5 cells produce the biomass that results when essential reaction (1) PNTK is knocked out, (2) NADK is knocked out, (3) DAPDC is knocked out, (4) PGAMT is knocked out, and (5) METAT is knocked out.  It is noted that the reaction names for the ModelSEED models are in the form rxn*xxxxx*.**"
   ]
  },
  {
   "cell_type": "markdown",
   "id": "26521e14",
   "metadata": {},
   "source": [
    "*cell 1*"
   ]
  },
  {
   "cell_type": "code",
   "execution_count": 4,
   "id": "a476ef5a",
   "metadata": {},
   "outputs": [
    {
     "name": "stdout",
     "output_type": "stream",
     "text": [
      "iML1515 single knockout PNTK: \n",
      "         ids  growth   status\n",
      "1443  {PNTK}     0.0  optimal \n",
      "\n",
      "iJO1366 single knockout PNTK: \n",
      "         ids  growth   status\n",
      "2110  {PNTK}     0.0  optimal \n",
      "\n",
      "iEK1008 single knockout PNTK: \n",
      "        ids  growth   status\n",
      "704  {PNTK}     0.0  optimal \n",
      "\n",
      "iSB619 single knockout PNTK: \n",
      "        ids   growth   status\n",
      "427  {PNTK}  0.15805  optimal \n",
      "\n",
      "iCN900 single knockout PNTK: \n",
      "        ids  growth   status\n",
      "305  {PNTK}     0.0  optimal \n",
      "\n",
      "iML1515_KBase single knockout PNTK: \n",
      "                ids  growth   status\n",
      "2247  {rxn12510_c0}     0.0  optimal \n",
      "\n",
      "iBsu1103 single knockout PNTK: \n",
      "            ids  growth   status\n",
      "940  {rxn12510}     0.0  optimal \n",
      "\n"
     ]
    }
   ],
   "source": [
    "print(\"iML1515 single knockout PNTK: \")\n",
    "print(iML1515_single.knockout[\"PNTK\"], '\\n')\n",
    "print(\"iJO1366 single knockout PNTK: \")\n",
    "print(iJO1366_single.knockout[\"PNTK\"], '\\n')\n",
    "print(\"iEK1008 single knockout PNTK: \")\n",
    "print(iEK1008_single.knockout[\"PNTK\"], '\\n')\n",
    "print(\"iSB619 single knockout PNTK: \")\n",
    "print(iSB619_single.knockout[\"PNTK\"], '\\n')\n",
    "print(\"iCN900 single knockout PNTK: \")\n",
    "print(iCN900_single.knockout[\"PNTK\"], '\\n')\n",
    "print(\"iML1515_KBase single knockout PNTK: \")\n",
    "print(iML1515_KBase_single.knockout[\"rxn12510_c0\"], '\\n')\n",
    "print(\"iBsu1103 single knockout PNTK: \")\n",
    "print(iBsu1103_single.knockout[\"rxn12510\"], '\\n')"
   ]
  },
  {
   "cell_type": "markdown",
   "id": "0837f290",
   "metadata": {},
   "source": [
    "*cell 2*"
   ]
  },
  {
   "cell_type": "code",
   "execution_count": 5,
   "id": "98672f41",
   "metadata": {},
   "outputs": [
    {
     "name": "stdout",
     "output_type": "stream",
     "text": [
      "iML1515 single knockout NADK: \n",
      "         ids  growth   status\n",
      "2106  {NADK}     0.0  optimal \n",
      "\n",
      "iJO1366 single knockout NADK: \n",
      "         ids  growth   status\n",
      "2374  {NADK}     0.0  optimal \n",
      "\n",
      "iEK1008 single knockout NADK: \n",
      "       ids  growth   status\n",
      "31  {NADK}     0.0  optimal \n",
      "\n",
      "iSB619 single knockout NADK: \n",
      "        ids  growth   status\n",
      "111  {NADK}     0.0  optimal \n",
      "\n",
      "iCN900 single knockout NADK: \n",
      "        ids  growth   status\n",
      "769  {NADK}     0.0  optimal \n",
      "\n",
      "iML1515_KBase single knockout NADK: \n",
      "                ids  growth   status\n",
      "2291  {rxn00077_c0}     0.0  optimal \n",
      "\n",
      "iBsu1103 single knockout NADK: \n",
      "            ids       growth   status\n",
      "362  {rxn00077}  1229.657244  optimal\n"
     ]
    }
   ],
   "source": [
    "print(\"iML1515 single knockout NADK: \")\n",
    "print(iML1515_single.knockout[\"NADK\"], '\\n')\n",
    "print(\"iJO1366 single knockout NADK: \")\n",
    "print(iJO1366_single.knockout[\"NADK\"], '\\n')\n",
    "print(\"iEK1008 single knockout NADK: \")\n",
    "print(iEK1008_single.knockout[\"NADK\"], '\\n')\n",
    "print(\"iSB619 single knockout NADK: \")\n",
    "print(iSB619_single.knockout[\"NADK\"], '\\n')\n",
    "print(\"iCN900 single knockout NADK: \")\n",
    "print(iCN900_single.knockout[\"NADK\"], '\\n')\n",
    "print(\"iML1515_KBase single knockout NADK: \")\n",
    "print(iML1515_KBase_single.knockout[\"rxn00077_c0\"], '\\n')\n",
    "print(\"iBsu1103 single knockout NADK: \")\n",
    "print(iBsu1103_single.knockout[\"rxn00077\"])"
   ]
  },
  {
   "cell_type": "markdown",
   "id": "ce36b643",
   "metadata": {},
   "source": [
    "*cell 3*"
   ]
  },
  {
   "cell_type": "code",
   "execution_count": 6,
   "id": "eedf707f",
   "metadata": {},
   "outputs": [
    {
     "name": "stdout",
     "output_type": "stream",
     "text": [
      "iML1515 single knockout DAPDC: \n",
      "          ids  growth   status\n",
      "2507  {DAPDC}     0.0  optimal \n",
      "\n",
      "iJO1366 single knockout DAPDC: \n",
      "          ids  growth   status\n",
      "1649  {DAPDC}     0.0  optimal \n",
      "\n",
      "iEK1008 single knockout DAPDC: \n",
      "         ids  growth   status\n",
      "388  {DAPDC}     0.0  optimal \n",
      "\n",
      "iSB619 single knockout DAPDC: \n",
      "         ids  growth   status\n",
      "660  {DAPDC}     0.0  optimal \n",
      "\n",
      "iCN900 single knockout DAPDC: \n",
      "        ids  growth   status\n",
      "95  {DAPDC}     0.0  optimal \n",
      "\n",
      "iML1515_KBase single knockout DAPDC: \n",
      "                ids     growth   status\n",
      "1252  {rxn00313_c0}  75.502427  optimal \n",
      "\n",
      "iBsu1103 single knockout DAPDC: \n",
      "             ids       growth   status\n",
      "1489  {rxn00313}  1229.657244  optimal\n"
     ]
    }
   ],
   "source": [
    "print(\"iML1515 single knockout DAPDC: \")\n",
    "print(iML1515_single.knockout[\"DAPDC\"], '\\n')\n",
    "print(\"iJO1366 single knockout DAPDC: \")\n",
    "print(iJO1366_single.knockout[\"DAPDC\"], '\\n')\n",
    "print(\"iEK1008 single knockout DAPDC: \") \n",
    "print(iEK1008_single.knockout[\"DAPDC\"], '\\n')\n",
    "print(\"iSB619 single knockout DAPDC: \") \n",
    "print(iSB619_single.knockout[\"DAPDC\"], '\\n')\n",
    "print(\"iCN900 single knockout DAPDC: \")\n",
    "print(iCN900_single.knockout[\"DAPDC\"], '\\n')\n",
    "print(\"iML1515_KBase single knockout DAPDC: \")\n",
    "print(iML1515_KBase_single.knockout[\"rxn00313_c0\"], '\\n')\n",
    "print(\"iBsu1103 single knockout DAPDC: \")\n",
    "print(iBsu1103_single.knockout[\"rxn00313\"])"
   ]
  },
  {
   "cell_type": "markdown",
   "id": "64119047",
   "metadata": {},
   "source": [
    "*cell 4*"
   ]
  },
  {
   "cell_type": "code",
   "execution_count": 7,
   "id": "b2883abd",
   "metadata": {},
   "outputs": [
    {
     "name": "stdout",
     "output_type": "stream",
     "text": [
      "iML1515 single knockout PGAMT: \n",
      "          ids  growth   status\n",
      "1991  {PGAMT}     0.0  optimal \n",
      "\n",
      "iJO1366 single knockout PGAMT: \n",
      "          ids  growth   status\n",
      "2265  {PGAMT}     0.0  optimal \n",
      "\n",
      "iEK1008 single knockout PGAMT: \n",
      "         ids  growth   status\n",
      "656  {PGAMT}     0.0  optimal \n",
      "\n",
      "iSB619 single knockout PGAMT: \n",
      "         ids  growth   status\n",
      "399  {PGAMT}     0.0  optimal \n",
      "\n",
      "iCN900 single knockout PGAMT: \n",
      "         ids  growth   status\n",
      "730  {PGAMT}     0.0  optimal \n",
      "\n",
      "iML1515_KBase single knockout PGAMT: \n",
      "                ids  growth   status\n",
      "1470  {rxn01485_c0}     0.0  optimal \n",
      "\n",
      "iBsu1103 single knockout PGAMT: \n",
      "            ids       growth   status\n",
      "698  {rxn01485}  1229.657244  optimal \n",
      "\n"
     ]
    }
   ],
   "source": [
    "print(\"iML1515 single knockout PGAMT: \")\n",
    "print(iML1515_single.knockout[\"PGAMT\"], '\\n')\n",
    "print(\"iJO1366 single knockout PGAMT: \")\n",
    "print(iJO1366_single.knockout[\"PGAMT\"], '\\n')\n",
    "print(\"iEK1008 single knockout PGAMT: \")\n",
    "print(iEK1008_single.knockout[\"PGAMT\"],'\\n')\n",
    "print(\"iSB619 single knockout PGAMT: \")\n",
    "print(iSB619_single.knockout[\"PGAMT\"], '\\n')\n",
    "print(\"iCN900 single knockout PGAMT: \")\n",
    "print(iCN900_single.knockout[\"PGAMT\"],'\\n')\n",
    "print(\"iML1515_KBase single knockout PGAMT: \")\n",
    "print(iML1515_KBase_single.knockout[\"rxn01485_c0\"], '\\n')\n",
    "print(\"iBsu1103 single knockout PGAMT: \")\n",
    "print(iBsu1103_single.knockout[\"rxn01485\"], '\\n')"
   ]
  },
  {
   "cell_type": "markdown",
   "id": "4350aef5",
   "metadata": {},
   "source": [
    "*cell 5*"
   ]
  },
  {
   "cell_type": "code",
   "execution_count": 8,
   "id": "466571bb",
   "metadata": {},
   "outputs": [
    {
     "name": "stdout",
     "output_type": "stream",
     "text": [
      "iML1515 single knockout METAT: \n",
      "         ids  growth   status\n",
      "389  {METAT}     0.0  optimal \n",
      "\n",
      "iJO1366 single knockout METAT: \n",
      "         ids  growth   status\n",
      "737  {METAT}     0.0  optimal \n",
      "\n",
      "iEK1008 single knockout METAT: \n",
      "          ids  growth   status\n",
      "1046  {METAT}     0.0  optimal \n",
      "\n",
      "iSB619 single knockout METAT: \n",
      "         ids  growth   status\n",
      "101  {METAT}     0.0  optimal \n",
      "\n",
      "iCN900 single knockout METAT: \n",
      "         ids  growth   status\n",
      "178  {METAT}     0.0  optimal \n",
      "\n",
      "iML1515_KBase single knockout METAT:  \n",
      "\n",
      "                ids  growth   status\n",
      "1502  {rxn00126_c0}     0.0  optimal \n",
      "\n",
      "iBsu1103 single knockout METAT: \n",
      "             ids  growth   status\n",
      "1372  {rxn00126}     0.0  optimal \n",
      "\n"
     ]
    }
   ],
   "source": [
    "print(\"iML1515 single knockout METAT: \")\n",
    "print(iML1515_single.knockout[\"METAT\"], '\\n')\n",
    "print(\"iJO1366 single knockout METAT: \")\n",
    "print(iJO1366_single.knockout[\"METAT\"], '\\n')\n",
    "print(\"iEK1008 single knockout METAT: \")\n",
    "print(iEK1008_single.knockout[\"METAT\"], '\\n')\n",
    "print(\"iSB619 single knockout METAT: \")\n",
    "print(iSB619_single.knockout[\"METAT\"], '\\n')\n",
    "print(\"iCN900 single knockout METAT: \")\n",
    "print(iCN900_single.knockout[\"METAT\"], '\\n')\n",
    "print(\"iML1515_KBase single knockout METAT: \",'\\n')\n",
    "print(iML1515_KBase_single.knockout[\"rxn00126_c0\"], '\\n')\n",
    "print(\"iBsu1103 single knockout METAT: \")\n",
    "print(iBsu1103_single.knockout[\"rxn00126\"], '\\n')"
   ]
  }
 ],
 "metadata": {
  "kernelspec": {
   "display_name": "Python 3 (ipykernel)",
   "language": "python",
   "name": "python3"
  },
  "language_info": {
   "codemirror_mode": {
    "name": "ipython",
    "version": 3
   },
   "file_extension": ".py",
   "mimetype": "text/x-python",
   "name": "python",
   "nbconvert_exporter": "python",
   "pygments_lexer": "ipython3",
   "version": "3.8.11"
  }
 },
 "nbformat": 4,
 "nbformat_minor": 5
}
