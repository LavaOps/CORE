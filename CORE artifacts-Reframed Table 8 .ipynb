{
 "cells": [
  {
   "cell_type": "markdown",
   "id": "3157b737",
   "metadata": {},
   "source": [
    "This notebook produces ReFramed's results when essential nutrients are removed as shown in Table 8. The media is comprised of the compounds in the COBRApy model for each of the respective models. Dependencies are listed in the readme. This notebook assumes ReFramed is installed as well as a solver. (See readme). "
   ]
  },
  {
   "cell_type": "code",
   "execution_count": 1,
   "id": "a326fc6a",
   "metadata": {},
   "outputs": [],
   "source": [
    "#Import the require modules\n",
    "from reframed import load_cbmodel\n",
    "from reframed import Environment\n",
    "from reframed import FBA"
   ]
  },
  {
   "cell_type": "markdown",
   "id": "34608189",
   "metadata": {},
   "source": [
    "It is noted that the warnings that occur on loading the models do not appear in the lastest version of ReFramed (version 1.4.0)."
   ]
  },
  {
   "cell_type": "code",
   "execution_count": 2,
   "id": "2cc0d4be",
   "metadata": {},
   "outputs": [
    {
     "name": "stderr",
     "output_type": "stream",
     "text": [
      "/home/alexei/anaconda3/lib/python3.8/site-packages/reframed/io/sbml.py:512: UserWarning: Gene association for reaction R_PFL is not DNF\n",
      "  warn(f\"Gene association for reaction {reaction_id} is not DNF\")\n",
      "/home/alexei/anaconda3/lib/python3.8/site-packages/reframed/io/sbml.py:512: UserWarning: Gene association for reaction R_RNDR1 is not DNF\n",
      "  warn(f\"Gene association for reaction {reaction_id} is not DNF\")\n",
      "/home/alexei/anaconda3/lib/python3.8/site-packages/reframed/io/sbml.py:512: UserWarning: Gene association for reaction R_RNDR3 is not DNF\n",
      "  warn(f\"Gene association for reaction {reaction_id} is not DNF\")\n",
      "/home/alexei/anaconda3/lib/python3.8/site-packages/reframed/io/sbml.py:512: UserWarning: Gene association for reaction R_RNDR4 is not DNF\n",
      "  warn(f\"Gene association for reaction {reaction_id} is not DNF\")\n",
      "/home/alexei/anaconda3/lib/python3.8/site-packages/reframed/io/sbml.py:512: UserWarning: Gene association for reaction R_CITL is not DNF\n",
      "  warn(f\"Gene association for reaction {reaction_id} is not DNF\")\n",
      "/home/alexei/anaconda3/lib/python3.8/site-packages/reframed/io/sbml.py:512: UserWarning: Gene association for reaction R_NO3R1bpp is not DNF\n",
      "  warn(f\"Gene association for reaction {reaction_id} is not DNF\")\n",
      "/home/alexei/anaconda3/lib/python3.8/site-packages/reframed/io/sbml.py:512: UserWarning: Gene association for reaction R_NO3R2bpp is not DNF\n",
      "  warn(f\"Gene association for reaction {reaction_id} is not DNF\")\n",
      "/home/alexei/anaconda3/lib/python3.8/site-packages/reframed/io/sbml.py:512: UserWarning: Gene association for reaction R_ATPS4rpp is not DNF\n",
      "  warn(f\"Gene association for reaction {reaction_id} is not DNF\")\n",
      "/home/alexei/anaconda3/lib/python3.8/site-packages/reframed/io/sbml.py:512: UserWarning: Gene association for reaction R_CPGNtonex is not DNF\n",
      "  warn(f\"Gene association for reaction {reaction_id} is not DNF\")\n",
      "/home/alexei/anaconda3/lib/python3.8/site-packages/reframed/io/sbml.py:512: UserWarning: Gene association for reaction R_FE3DCITtonex is not DNF\n",
      "  warn(f\"Gene association for reaction {reaction_id} is not DNF\")\n",
      "/home/alexei/anaconda3/lib/python3.8/site-packages/reframed/io/sbml.py:512: UserWarning: Gene association for reaction R_FEENTERtonex is not DNF\n",
      "  warn(f\"Gene association for reaction {reaction_id} is not DNF\")\n",
      "/home/alexei/anaconda3/lib/python3.8/site-packages/reframed/io/sbml.py:512: UserWarning: Gene association for reaction R_RNDR3b is not DNF\n",
      "  warn(f\"Gene association for reaction {reaction_id} is not DNF\")\n",
      "/home/alexei/anaconda3/lib/python3.8/site-packages/reframed/io/sbml.py:512: UserWarning: Gene association for reaction R_RNDR4b is not DNF\n",
      "  warn(f\"Gene association for reaction {reaction_id} is not DNF\")\n",
      "/home/alexei/anaconda3/lib/python3.8/site-packages/reframed/io/sbml.py:512: UserWarning: Gene association for reaction R_RNDR1b is not DNF\n",
      "  warn(f\"Gene association for reaction {reaction_id} is not DNF\")\n",
      "/home/alexei/anaconda3/lib/python3.8/site-packages/reframed/io/sbml.py:512: UserWarning: Gene association for reaction R_RNDR2b is not DNF\n",
      "  warn(f\"Gene association for reaction {reaction_id} is not DNF\")\n",
      "/home/alexei/anaconda3/lib/python3.8/site-packages/reframed/io/sbml.py:512: UserWarning: Gene association for reaction R_INDOLEt2pp is not DNF\n",
      "  warn(f\"Gene association for reaction {reaction_id} is not DNF\")\n",
      "/home/alexei/anaconda3/lib/python3.8/site-packages/reframed/io/sbml.py:512: UserWarning: Gene association for reaction R_FECRMtonex is not DNF\n",
      "  warn(f\"Gene association for reaction {reaction_id} is not DNF\")\n",
      "/home/alexei/anaconda3/lib/python3.8/site-packages/reframed/io/sbml.py:512: UserWarning: Gene association for reaction R_FE3HOXtonex is not DNF\n",
      "  warn(f\"Gene association for reaction {reaction_id} is not DNF\")\n",
      "/home/alexei/anaconda3/lib/python3.8/site-packages/reframed/io/sbml.py:512: UserWarning: Gene association for reaction R_FHL is not DNF\n",
      "  warn(f\"Gene association for reaction {reaction_id} is not DNF\")\n",
      "/home/alexei/anaconda3/lib/python3.8/site-packages/reframed/io/sbml.py:512: UserWarning: Gene association for reaction R_RNDR2 is not DNF\n",
      "  warn(f\"Gene association for reaction {reaction_id} is not DNF\")\n",
      "/home/alexei/anaconda3/lib/python3.8/site-packages/reframed/io/sbml.py:512: UserWarning: Gene association for reaction R_CELBpts is not DNF\n",
      "  warn(f\"Gene association for reaction {reaction_id} is not DNF\")\n",
      "/home/alexei/anaconda3/lib/python3.8/site-packages/reframed/io/sbml.py:512: UserWarning: Gene association for reaction R_FE3DHBZStonex is not DNF\n",
      "  warn(f\"Gene association for reaction {reaction_id} is not DNF\")\n",
      "/home/alexei/anaconda3/lib/python3.8/site-packages/reframed/io/sbml.py:512: UserWarning: Gene association for reaction R_FEOXAMtonex is not DNF\n",
      "  warn(f\"Gene association for reaction {reaction_id} is not DNF\")\n",
      "/home/alexei/anaconda3/lib/python3.8/site-packages/reframed/io/sbml.py:512: UserWarning: Gene association for reaction R_OBTFL is not DNF\n",
      "  warn(f\"Gene association for reaction {reaction_id} is not DNF\")\n",
      "/home/alexei/anaconda3/lib/python3.8/site-packages/reframed/io/sbml.py:512: UserWarning: Gene association for reaction R_CHTBSptspp is not DNF\n",
      "  warn(f\"Gene association for reaction {reaction_id} is not DNF\")\n",
      "/home/alexei/anaconda3/lib/python3.8/site-packages/reframed/io/sbml.py:512: UserWarning: Gene association for reaction R_CBL1tonex is not DNF\n",
      "  warn(f\"Gene association for reaction {reaction_id} is not DNF\")\n",
      "/home/alexei/anaconda3/lib/python3.8/site-packages/reframed/io/sbml.py:512: UserWarning: Gene association for reaction R_CBItonex is not DNF\n",
      "  warn(f\"Gene association for reaction {reaction_id} is not DNF\")\n",
      "/home/alexei/anaconda3/lib/python3.8/site-packages/reframed/io/sbml.py:512: UserWarning: Gene association for reaction R_ADOCBLtonex is not DNF\n",
      "  warn(f\"Gene association for reaction {reaction_id} is not DNF\")\n",
      "/home/alexei/anaconda3/lib/python3.8/site-packages/reframed/io/sbml.py:512: UserWarning: Gene association for reaction R_ADNCYC is not DNF\n",
      "  warn(f\"Gene association for reaction {reaction_id} is not DNF\")\n",
      "/home/alexei/anaconda3/lib/python3.8/site-packages/reframed/io/sbml.py:512: UserWarning: Gene association for reaction R_Kabc is not DNF\n",
      "  warn(f\"Gene association for reaction {reaction_id} is not DNF\")\n",
      "/home/alexei/anaconda3/lib/python3.8/site-packages/reframed/io/sbml.py:512: UserWarning: Gene association for reaction R_LPLIPAL2E180 is not DNF\n",
      "  warn(f\"Gene association for reaction {reaction_id} is not DNF\")\n",
      "/home/alexei/anaconda3/lib/python3.8/site-packages/reframed/io/sbml.py:512: UserWarning: Gene association for reaction R_PDH is not DNF\n",
      "  warn(f\"Gene association for reaction {reaction_id} is not DNF\")\n",
      "/home/alexei/anaconda3/lib/python3.8/site-packages/reframed/io/sbml.py:512: UserWarning: Gene association for reaction R_PDHa is not DNF\n",
      "  warn(f\"Gene association for reaction {reaction_id} is not DNF\")\n",
      "/home/alexei/anaconda3/lib/python3.8/site-packages/reframed/io/sbml.py:512: UserWarning: Gene association for reaction R_TDPGDH is not DNF\n",
      "  warn(f\"Gene association for reaction {reaction_id} is not DNF\")\n",
      "/home/alexei/anaconda3/lib/python3.8/site-packages/reframed/io/sbml.py:512: UserWarning: Gene association for reaction R_FAD_5 is not DNF\n",
      "  warn(f\"Gene association for reaction {reaction_id} is not DNF\")\n",
      "/home/alexei/anaconda3/lib/python3.8/site-packages/reframed/io/sbml.py:512: UserWarning: Gene association for reaction R_FAD_6 is not DNF\n",
      "  warn(f\"Gene association for reaction {reaction_id} is not DNF\")\n",
      "/home/alexei/anaconda3/lib/python3.8/site-packages/reframed/io/sbml.py:512: UserWarning: Gene association for reaction R_FAD_7 is not DNF\n",
      "  warn(f\"Gene association for reaction {reaction_id} is not DNF\")\n",
      "/home/alexei/anaconda3/lib/python3.8/site-packages/reframed/io/sbml.py:512: UserWarning: Gene association for reaction R_FAD_8 is not DNF\n",
      "  warn(f\"Gene association for reaction {reaction_id} is not DNF\")\n",
      "/home/alexei/anaconda3/lib/python3.8/site-packages/reframed/io/sbml.py:512: UserWarning: Gene association for reaction R_FAD_9 is not DNF\n",
      "  warn(f\"Gene association for reaction {reaction_id} is not DNF\")\n",
      "/home/alexei/anaconda3/lib/python3.8/site-packages/reframed/io/sbml.py:512: UserWarning: Gene association for reaction R_FAD_10 is not DNF\n",
      "  warn(f\"Gene association for reaction {reaction_id} is not DNF\")\n",
      "/home/alexei/anaconda3/lib/python3.8/site-packages/reframed/io/sbml.py:512: UserWarning: Gene association for reaction R_FAD_11 is not DNF\n",
      "  warn(f\"Gene association for reaction {reaction_id} is not DNF\")\n",
      "/home/alexei/anaconda3/lib/python3.8/site-packages/reframed/io/sbml.py:512: UserWarning: Gene association for reaction R_FAD_12 is not DNF\n",
      "  warn(f\"Gene association for reaction {reaction_id} is not DNF\")\n",
      "/home/alexei/anaconda3/lib/python3.8/site-packages/reframed/io/sbml.py:512: UserWarning: Gene association for reaction R_FAD_13 is not DNF\n",
      "  warn(f\"Gene association for reaction {reaction_id} is not DNF\")\n",
      "/home/alexei/anaconda3/lib/python3.8/site-packages/reframed/io/sbml.py:512: UserWarning: Gene association for reaction R_FAD_14 is not DNF\n",
      "  warn(f\"Gene association for reaction {reaction_id} is not DNF\")\n",
      "/home/alexei/anaconda3/lib/python3.8/site-packages/reframed/io/sbml.py:512: UserWarning: Gene association for reaction R_FAD_15 is not DNF\n",
      "  warn(f\"Gene association for reaction {reaction_id} is not DNF\")\n",
      "/home/alexei/anaconda3/lib/python3.8/site-packages/reframed/io/sbml.py:512: UserWarning: Gene association for reaction R_FAD_16 is not DNF\n",
      "  warn(f\"Gene association for reaction {reaction_id} is not DNF\")\n",
      "/home/alexei/anaconda3/lib/python3.8/site-packages/reframed/io/sbml.py:512: UserWarning: Gene association for reaction R_CPMPS is not DNF\n",
      "  warn(f\"Gene association for reaction {reaction_id} is not DNF\")\n",
      "/home/alexei/anaconda3/lib/python3.8/site-packages/reframed/io/sbml.py:512: UserWarning: Gene association for reaction R_FAD_17 is not DNF\n",
      "  warn(f\"Gene association for reaction {reaction_id} is not DNF\")\n",
      "/home/alexei/anaconda3/lib/python3.8/site-packages/reframed/io/sbml.py:512: UserWarning: Gene association for reaction R_FAD_20 is not DNF\n",
      "  warn(f\"Gene association for reaction {reaction_id} is not DNF\")\n",
      "/home/alexei/anaconda3/lib/python3.8/site-packages/reframed/io/sbml.py:512: UserWarning: Gene association for reaction R_FAD_18 is not DNF\n",
      "  warn(f\"Gene association for reaction {reaction_id} is not DNF\")\n",
      "/home/alexei/anaconda3/lib/python3.8/site-packages/reframed/io/sbml.py:512: UserWarning: Gene association for reaction R_FAD_19 is not DNF\n",
      "  warn(f\"Gene association for reaction {reaction_id} is not DNF\")\n",
      "/home/alexei/anaconda3/lib/python3.8/site-packages/reframed/io/sbml.py:512: UserWarning: Gene association for reaction R_FAD_1 is not DNF\n",
      "  warn(f\"Gene association for reaction {reaction_id} is not DNF\")\n",
      "/home/alexei/anaconda3/lib/python3.8/site-packages/reframed/io/sbml.py:512: UserWarning: Gene association for reaction R_FAD_2 is not DNF\n",
      "  warn(f\"Gene association for reaction {reaction_id} is not DNF\")\n",
      "/home/alexei/anaconda3/lib/python3.8/site-packages/reframed/io/sbml.py:512: UserWarning: Gene association for reaction R_FAD_3 is not DNF\n",
      "  warn(f\"Gene association for reaction {reaction_id} is not DNF\")\n",
      "/home/alexei/anaconda3/lib/python3.8/site-packages/reframed/io/sbml.py:512: UserWarning: Gene association for reaction R_FAD_4 is not DNF\n",
      "  warn(f\"Gene association for reaction {reaction_id} is not DNF\")\n",
      "/home/alexei/anaconda3/lib/python3.8/site-packages/reframed/io/sbml.py:512: UserWarning: Gene association for reaction R_FAD_25 is not DNF\n",
      "  warn(f\"Gene association for reaction {reaction_id} is not DNF\")\n",
      "/home/alexei/anaconda3/lib/python3.8/site-packages/reframed/io/sbml.py:512: UserWarning: Gene association for reaction R_FAD_26 is not DNF\n",
      "  warn(f\"Gene association for reaction {reaction_id} is not DNF\")\n",
      "/home/alexei/anaconda3/lib/python3.8/site-packages/reframed/io/sbml.py:512: UserWarning: Gene association for reaction R_FAD_27 is not DNF\n",
      "  warn(f\"Gene association for reaction {reaction_id} is not DNF\")\n",
      "/home/alexei/anaconda3/lib/python3.8/site-packages/reframed/io/sbml.py:512: UserWarning: Gene association for reaction R_FAD_21 is not DNF\n",
      "  warn(f\"Gene association for reaction {reaction_id} is not DNF\")\n",
      "/home/alexei/anaconda3/lib/python3.8/site-packages/reframed/io/sbml.py:512: UserWarning: Gene association for reaction R_FAD_22 is not DNF\n",
      "  warn(f\"Gene association for reaction {reaction_id} is not DNF\")\n",
      "/home/alexei/anaconda3/lib/python3.8/site-packages/reframed/io/sbml.py:512: UserWarning: Gene association for reaction R_FAD_23 is not DNF\n",
      "  warn(f\"Gene association for reaction {reaction_id} is not DNF\")\n",
      "/home/alexei/anaconda3/lib/python3.8/site-packages/reframed/io/sbml.py:512: UserWarning: Gene association for reaction R_FAD_24 is not DNF\n",
      "  warn(f\"Gene association for reaction {reaction_id} is not DNF\")\n",
      "/home/alexei/anaconda3/lib/python3.8/site-packages/reframed/io/sbml.py:512: UserWarning: Gene association for reaction R_MOAE1 is not DNF\n",
      "  warn(f\"Gene association for reaction {reaction_id} is not DNF\")\n"
     ]
    },
    {
     "name": "stderr",
     "output_type": "stream",
     "text": [
      "/home/alexei/anaconda3/lib/python3.8/site-packages/reframed/io/sbml.py:512: UserWarning: Gene association for reaction R_PHEMEt is not DNF\n",
      "  warn(f\"Gene association for reaction {reaction_id} is not DNF\")\n",
      "/home/alexei/anaconda3/lib/python3.8/site-packages/reframed/io/sbml.py:512: UserWarning: Gene association for reaction R_ACACT1r is not DNF\n",
      "  warn(f\"Gene association for reaction {reaction_id} is not DNF\")\n",
      "/home/alexei/anaconda3/lib/python3.8/site-packages/reframed/io/sbml.py:512: UserWarning: Gene association for reaction R_ACACT2r is not DNF\n",
      "  warn(f\"Gene association for reaction {reaction_id} is not DNF\")\n",
      "/home/alexei/anaconda3/lib/python3.8/site-packages/reframed/io/sbml.py:512: UserWarning: Gene association for reaction R_ACCOAC is not DNF\n",
      "  warn(f\"Gene association for reaction {reaction_id} is not DNF\")\n",
      "/home/alexei/anaconda3/lib/python3.8/site-packages/reframed/io/sbml.py:512: UserWarning: Gene association for reaction R_ACHBS is not DNF\n",
      "  warn(f\"Gene association for reaction {reaction_id} is not DNF\")\n",
      "/home/alexei/anaconda3/lib/python3.8/site-packages/reframed/io/sbml.py:512: UserWarning: Gene association for reaction R_ACLS is not DNF\n",
      "  warn(f\"Gene association for reaction {reaction_id} is not DNF\")\n",
      "/home/alexei/anaconda3/lib/python3.8/site-packages/reframed/io/sbml.py:512: UserWarning: Gene association for reaction R_GLUSx is not DNF\n",
      "  warn(f\"Gene association for reaction {reaction_id} is not DNF\")\n",
      "/home/alexei/anaconda3/lib/python3.8/site-packages/reframed/io/sbml.py:512: UserWarning: Gene association for reaction R_NAt3_1_copy1 is not DNF\n",
      "  warn(f\"Gene association for reaction {reaction_id} is not DNF\")\n",
      "/home/alexei/anaconda3/lib/python3.8/site-packages/reframed/io/sbml.py:512: UserWarning: Gene association for reaction R_METTRS is not DNF\n",
      "  warn(f\"Gene association for reaction {reaction_id} is not DNF\")\n",
      "/home/alexei/anaconda3/lib/python3.8/site-packages/reframed/io/sbml.py:512: UserWarning: Gene association for reaction R_UAG2E is not DNF\n",
      "  warn(f\"Gene association for reaction {reaction_id} is not DNF\")\n",
      "/home/alexei/anaconda3/lib/python3.8/site-packages/reframed/io/sbml.py:512: UserWarning: Gene association for reaction R_UAG2EMA is not DNF\n",
      "  warn(f\"Gene association for reaction {reaction_id} is not DNF\")\n",
      "/home/alexei/anaconda3/lib/python3.8/site-packages/reframed/io/sbml.py:512: UserWarning: Gene association for reaction R_GLCpts is not DNF\n",
      "  warn(f\"Gene association for reaction {reaction_id} is not DNF\")\n",
      "/home/alexei/anaconda3/lib/python3.8/site-packages/reframed/io/sbml.py:512: UserWarning: Gene association for reaction R_ANS is not DNF\n",
      "  warn(f\"Gene association for reaction {reaction_id} is not DNF\")\n",
      "/home/alexei/anaconda3/lib/python3.8/site-packages/reframed/io/sbml.py:512: UserWarning: Gene association for reaction R_TECA2S is not DNF\n",
      "  warn(f\"Gene association for reaction {reaction_id} is not DNF\")\n",
      "/home/alexei/anaconda3/lib/python3.8/site-packages/reframed/io/sbml.py:512: UserWarning: Gene association for reaction R_KAS16 is not DNF\n",
      "  warn(f\"Gene association for reaction {reaction_id} is not DNF\")\n",
      "/home/alexei/anaconda3/lib/python3.8/site-packages/reframed/io/sbml.py:512: UserWarning: Gene association for reaction R_TECA1S is not DNF\n",
      "  warn(f\"Gene association for reaction {reaction_id} is not DNF\")\n",
      "/home/alexei/anaconda3/lib/python3.8/site-packages/reframed/io/sbml.py:512: UserWarning: Gene association for reaction R_TECA3S is not DNF\n",
      "  warn(f\"Gene association for reaction {reaction_id} is not DNF\")\n",
      "/home/alexei/anaconda3/lib/python3.8/site-packages/reframed/io/sbml.py:512: UserWarning: Gene association for reaction R_TECA4S is not DNF\n",
      "  warn(f\"Gene association for reaction {reaction_id} is not DNF\")\n"
     ]
    }
   ],
   "source": [
    "#Load models\n",
    "iML1515_model=load_cbmodel('models/iML1515.xml')\n",
    "iJO1366_model=load_cbmodel('models/iJO1366.xml')\n",
    "iEK1008_model=load_cbmodel('models/iEK1008.xml')\n",
    "iSB619_model=load_cbmodel('models/iSB619.xml')\n",
    "iCN900_model=load_cbmodel('models/iCN900.xml')"
   ]
  },
  {
   "cell_type": "markdown",
   "id": "33fb5091",
   "metadata": {},
   "source": [
    "**The following cells produce the biomass produced for all models except iML1515-KBase and iBsu1103 (due to the complexity of their media) when (1) carbon is removed from the enviroment, (2) oxgyen is removed from the enviroment, (3) nitrogen is removed from the enviroment, (4) phosphate is removed from the enviroment, (5) sulfate is removed from the enviroment.**"
   ]
  },
  {
   "cell_type": "markdown",
   "id": "6e2223ef",
   "metadata": {},
   "source": [
    "*cell 1*"
   ]
  },
  {
   "cell_type": "code",
   "execution_count": 3,
   "id": "1f306a71",
   "metadata": {},
   "outputs": [
    {
     "name": "stdout",
     "output_type": "stream",
     "text": [
      "iML1515 without carbon:  Objective: None\n",
      "Status: Infeasible\n",
      "\n",
      "iJO1366 without carbon:  Objective: None\n",
      "Status: Infeasible\n",
      "\n",
      "iEK1008 without carbon:  Objective: None\n",
      "Status: Infeasible\n",
      "\n",
      "iSB619 without carbon:  Objective: 0.0\n",
      "Status: Optimal\n",
      "\n",
      "iCN900 without carbon:  Objective: 0.0\n",
      "Status: Optimal\n",
      "\n"
     ]
    }
   ],
   "source": [
    "env_C_iML1515_model = Environment.from_compounds([ \"pi\",'cl','o2','ni2','ca2','nh4','mg2','mn2','mobd','cu2','k','cobalt2','h','fe3','h2o','na1','fe2','so4','zn2','co2','sel','tungs','slnt']).apply(iML1515_model, exclusive=True, inplace=False)\n",
    "sol_C_iML1515_model = FBA(iML1515_model, constraints=env_C_iML1515_model)\n",
    "print('iML1515 without carbon: ', sol_C_iML1515_model)\n",
    "\n",
    "env_C_iJO1366_model = Environment.from_compounds(['pi','cl','o2','ni2','ca2','nh4','mg2','mn2','mobd','cu2','k','cobalt2','cbl1','sel','h','fe3','co2','h2o','na1','slnt','tungs','fe2','so4','zn2']).apply(iJO1366_model, exclusive=True, inplace=False)\n",
    "sol_C_iJO1366_model = FBA(iJO1366_model, constraints=env_C_iJO1366_model)\n",
    "print('iJO1366 without carbon: ', sol_C_iJO1366_model)\n",
    "\n",
    "env_C_iEK1008_model = Environment.from_compounds([\"mg2\",'nh4', 'o2','pi','so4',\"ca2\",'cl','fe3','h2o','h']).apply(iEK1008_model, exclusive=True, inplace=False)\n",
    "sol_C_iEK1008_model = FBA(iEK1008_model, constraints=env_C_iEK1008_model)\n",
    "print('iEK1008 without carbon: ', sol_C_iEK1008_model)\n",
    "\n",
    "env_C_iSB619_model = Environment.from_compounds(['fe2', 'h2o','h','o2',\"pi\",'so4',]).apply(iSB619_model, exclusive=True, inplace=False)\n",
    "sol_C_iSB619_model = FBA(iSB619_model, constraints=env_C_iSB619_model)\n",
    "print('iSB619 without carbon: ', sol_C_iSB619_model)\n",
    "\n",
    "env_C_iCN900_model = Environment.from_compounds(['k', 'fe2','ca2',\"mg2\",'pi','na1','zn2','h','co2', 'h2o','sel','slnt','cobalt2']).apply(iCN900_model, exclusive=True, inplace=False)\n",
    "sol_C_iCN900_model = FBA(iCN900_model, constraints=env_C_iCN900_model)\n",
    "print('iCN900 without carbon: ', sol_C_iCN900_model)"
   ]
  },
  {
   "cell_type": "markdown",
   "id": "55517cc0",
   "metadata": {},
   "source": [
    "*cell 2*"
   ]
  },
  {
   "cell_type": "code",
   "execution_count": 4,
   "id": "21d040ea",
   "metadata": {},
   "outputs": [
    {
     "name": "stdout",
     "output_type": "stream",
     "text": [
      "iML1515 without oxygen:  Objective: 0.1575398169375966\n",
      "Status: Optimal\n",
      "\n",
      "iJO1366 without oxygen:  Objective: 0.24150155709717674\n",
      "Status: Optimal\n",
      "\n",
      "iEK1008 without oxygen:  Objective: 0.0\n",
      "Status: Optimal\n",
      "\n",
      "iSB619 without oxygen:  Objective: 0.0\n",
      "Status: Optimal\n",
      "\n",
      "iCN900: anaerobic, no o2 in model \n"
     ]
    }
   ],
   "source": [
    "env_O_iML1515_model = Environment.from_compounds([ \"glc__D\",\"pi\",'cl','ni2','ca2','nh4','mg2','mn2','mobd','cu2','k','cobalt2','h','fe3','h2o','na1','fe2','so4','zn2','co2','sel','tungs','slnt']).apply(iML1515_model, exclusive=True, inplace=False)\n",
    "sol_O_iML1515_model = FBA(iML1515_model, constraints=env_O_iML1515_model)\n",
    "print('iML1515 without oxygen: ',sol_O_iML1515_model)\n",
    "\n",
    "env_O_iJO1366_model = Environment.from_compounds(['glc__D','pi','cl','ni2','ca2','nh4','mg2','mn2','mobd','cu2','k','cobalt2','cbl1','sel','h','fe3','co2','h2o','na1','slnt','tungs','fe2','so4','zn2']).apply(iJO1366_model, exclusive=True, inplace=False)\n",
    "sol_O_iJO1366_model = FBA(iJO1366_model, constraints=env_O_iJO1366_model)\n",
    "print('iJO1366 without oxygen: ', sol_O_iJO1366_model)\n",
    "\n",
    "env_O_iEK1008_model = Environment.from_compounds([\"mg2\",'nh4', 'pi','asn__L','so4',\"ca2\",'cit','cl','fe3','h2o','glyc','h','chsterol','etoh']).apply(iEK1008_model, exclusive=True, inplace=False)\n",
    "sol_O_iEK1008_model = FBA(iEK1008_model, constraints=env_O_iEK1008_model)\n",
    "print('iEK1008 without oxygen: ',sol_O_iEK1008_model)\n",
    "\n",
    "env_O_iSB619_model = Environment.from_compounds([\"csn\",'fe2', 'glc__D','h2o','h','nac',\"pi\",'pro__L','so4','thm']).apply(iSB619_model, exclusive=True, inplace=False)\n",
    "sol_O_iSB619_model = FBA(iSB619_model, constraints=env_O_iSB619_model)\n",
    "print('iSB619 without oxygen: ', sol_O_iSB619_model)\n",
    "\n",
    "env_O_iCN900_model = Environment.from_compounds([\"leu__L\",'k', 'pydxn','fe2','ca2','ile__L',\"mg2\",'pro__L','pi','trp__L','met__L','cys__L','btn','pnto__R','na1','zn2','h','co2','val__L', 'h2o','sel','slnt','cobalt2']).apply(iCN900_model, exclusive=True, inplace=False)\n",
    "sol_O_iCN900_model = FBA(iCN900_model, constraints=env_O_iCN900_model)\n",
    "print('iCN900: anaerobic, no o2 in model ')#, sol_O_iCN900_model)\n"
   ]
  },
  {
   "cell_type": "markdown",
   "id": "d0681d81",
   "metadata": {},
   "source": [
    "*cell 3*"
   ]
  },
  {
   "cell_type": "code",
   "execution_count": 5,
   "id": "6182fb5f",
   "metadata": {},
   "outputs": [
    {
     "name": "stdout",
     "output_type": "stream",
     "text": [
      "iML1515 without nitrogen:  Objective: 0.0\n",
      "Status: Optimal\n",
      "\n",
      "iJO1366 without nitrogen:  Objective: 0.0\n",
      "Status: Optimal\n",
      "\n",
      "iEK1008 without nitrogen:  Objective: 0.0\n",
      "Status: Optimal\n",
      "\n",
      "iSB619 without nitrogen:  Objective: 0.0\n",
      "Status: Optimal\n",
      "\n",
      "iCN900 without nitrogen:  Objective: 0.0\n",
      "Status: Optimal\n",
      "\n"
     ]
    }
   ],
   "source": [
    "env_N_iML1515_model = Environment.from_compounds([ \"glc__D\",\"pi\",'cl','o2','ni2','ca2','mg2','mn2','mobd','cu2','k','cobalt2','h','fe3','h2o','na1','fe2','so4','zn2','co2','sel','tungs','slnt']).apply(iML1515_model, exclusive=True, inplace=False)\n",
    "sol_N_iML1515_model = FBA(iML1515_model, constraints=env_N_iML1515_model)\n",
    "print('iML1515 without nitrogen: ',sol_N_iML1515_model)\n",
    "\n",
    "env_N_iJO1366_model = Environment.from_compounds(['glc__D', 'pi','cl','o2','ni2','ca2','mg2','mn2','mobd','cu2','k','cobalt2','cbl1','sel','h','fe3','co2','h2o','na1','slnt','tungs','fe2','so4','zn2']).apply(iJO1366_model, exclusive=True, inplace=False)\n",
    "sol_N_iJO1366_model = FBA(iJO1366_model, constraints=env_N_iJO1366_model)\n",
    "print('iJO1366 without nitrogen: ', sol_N_iJO1366_model)\n",
    "\n",
    "env_N_iEK1008_model = Environment.from_compounds([\"mg2\",'o2','pi','so4',\"ca2\",'cit','cl','fe3','h2o','glyc','h','chsterol','etoh']).apply(iEK1008_model, exclusive=True, inplace=False)\n",
    "sol_N_iEK1008_model = FBA(iEK1008_model, constraints=env_N_iEK1008_model)\n",
    "print('iEK1008 without nitrogen: ',sol_N_iEK1008_model)\n",
    "\n",
    "env_N_iSB619_model = Environment.from_compounds(['fe2', 'glc__D','h2o','h','o2',\"pi\",'so4']).apply(iSB619_model, exclusive=True, inplace=False)\n",
    "sol_N_iSB619_model = FBA(iSB619_model, constraints=env_N_iSB619_model)\n",
    "print('iSB619 without nitrogen: ', sol_N_iSB619_model)\n",
    "\n",
    "env_N_iCN900_model = Environment.from_compounds(['k', 'fe2','ca2',\"mg2\",'pi','na1','zn2','h','co2', 'h2o','sel','slnt','cobalt2']).apply(iCN900_model, exclusive=True, inplace=False)\n",
    "sol_N_iCN900_model = FBA(iCN900_model, constraints=env_N_iCN900_model)\n",
    "print('iCN900 without nitrogen: ', sol_N_iCN900_model)"
   ]
  },
  {
   "cell_type": "markdown",
   "id": "c993a7e6",
   "metadata": {},
   "source": [
    "*cell 4*"
   ]
  },
  {
   "cell_type": "code",
   "execution_count": 6,
   "id": "33d6249d",
   "metadata": {},
   "outputs": [
    {
     "name": "stdout",
     "output_type": "stream",
     "text": [
      "iML1515 without phosphate:  Objective: 8.881784197001252e-15\n",
      "Status: Optimal\n",
      "\n",
      "iJO1366 without phosphate:  Objective: 8.881784197001252e-15\n",
      "Status: Optimal\n",
      "\n",
      "iEK1008 without phosphate:  Objective: 0.0\n",
      "Status: Optimal\n",
      "\n",
      "iSB619 without phosphate:  Objective: 7.589415207398531e-18\n",
      "Status: Optimal\n",
      "\n",
      "iCN900 without phosphate:  Objective: 0.0\n",
      "Status: Optimal\n",
      "\n"
     ]
    }
   ],
   "source": [
    "env_P_iML1515_model = Environment.from_compounds([ \"glc__D\",'cl','o2','ni2','ca2','nh4','mg2','mn2','mobd','cu2','k','cobalt2','h','fe3','h2o','na1','fe2','so4','zn2','co2','sel','tungs','slnt']).apply(iML1515_model, exclusive=True, inplace=False)\n",
    "sol_P_iML1515_model = FBA(iML1515_model, constraints=env_P_iML1515_model)\n",
    "print('iML1515 without phosphate: ',sol_P_iML1515_model)\n",
    "\n",
    "env_P_iJO1366_model = Environment.from_compounds(['glc__D', 'cl','o2','ni2','ca2','nh4','mg2','mn2','mobd','cu2','k','cobalt2','cbl1','sel','h','fe3','co2','h2o','na1','slnt','tungs','fe2','so4','zn2']).apply(iJO1366_model, exclusive=True, inplace=False)\n",
    "sol_P_iJO1366_model = FBA(iJO1366_model, constraints=env_P_iJO1366_model)\n",
    "print('iJO1366 without phosphate: ',sol_P_iJO1366_model)\n",
    "\n",
    "env_P_iEK1008_model = Environment.from_compounds([\"mg2\",'nh4', 'o2', 'asn__L','so4',\"ca2\",'cit','cl','fe3','h2o','glyc','h','chsterol','etoh']).apply(iEK1008_model, exclusive=True, inplace=False)\n",
    "sol_P_iEK1008_model = FBA(iEK1008_model, constraints=env_P_iEK1008_model)\n",
    "print('iEK1008 without phosphate: ',sol_P_iEK1008_model)\n",
    "\n",
    "env_P_iSB619_model = Environment.from_compounds([\"csn\",'fe2', 'glc__D','h2o','h','nac','o2', 'pro__L','so4','thm']).apply(iSB619_model, exclusive=True, inplace=False)\n",
    "sol_P_iSB619_model = FBA(iSB619_model, constraints=env_P_iSB619_model)\n",
    "print('iSB619 without phosphate: ',sol_P_iSB619_model)\n",
    "\n",
    "env_P_iCN900_model = Environment.from_compounds([\"leu__L\",'k', 'pydxn','fe2','ca2','ile__L',\"mg2\",'pro__L', 'trp__L','met__L','cys__L','btn','pnto__R','na1','zn2','h','co2','val__L', 'h2o','sel','slnt','cobalt2']).apply(iCN900_model, exclusive=True, inplace=False)\n",
    "sol_P_iCN900_model = FBA(iCN900_model, constraints=env_P_iCN900_model)\n",
    "print('iCN900 without phosphate: ',sol_P_iCN900_model)"
   ]
  },
  {
   "cell_type": "markdown",
   "id": "ba67c90a",
   "metadata": {},
   "source": [
    "*cell 5*"
   ]
  },
  {
   "cell_type": "code",
   "execution_count": 7,
   "id": "e294fb4a",
   "metadata": {},
   "outputs": [
    {
     "name": "stdout",
     "output_type": "stream",
     "text": [
      "iML1515 without sulfate:  Objective: 0.0\n",
      "Status: Optimal\n",
      "\n",
      "iJO1366 without sulfate:  Objective: 0.0\n",
      "Status: Optimal\n",
      "\n",
      "iEK1008 without sulfate:  Objective: 0.0\n",
      "Status: Optimal\n",
      "\n",
      "iSB619 without sulfate:  Objective: 0.0\n",
      "Status: Optimal\n",
      "\n",
      "iCN900 without sulfate:  Objective: 0.0\n",
      "Status: Optimal\n",
      "\n"
     ]
    }
   ],
   "source": [
    "env_S_iML1515_model = Environment.from_compounds([ \"glc__D\",\"pi\",'cl','o2','ni2','ca2','nh4','mg2','mn2','mobd','cu2','k','cobalt2','h','fe3','h2o','na1','fe2','zn2','co2','sel','tungs','slnt']).apply(iML1515_model, exclusive=True, inplace=False)\n",
    "sol_S_iML1515_model = FBA(iML1515_model, constraints=env_S_iML1515_model)\n",
    "print('iML1515 without sulfate: ', sol_S_iML1515_model)\n",
    "\n",
    "env_S_iJO1366_model = Environment.from_compounds(['glc__D', 'pi','cl','o2','ni2','ca2','nh4','mg2','mn2','mobd','cu2','k','cobalt2','cbl1','sel','h','fe3','co2','h2o','na1','slnt','tungs','fe2','zn2']).apply(iJO1366_model, exclusive=True, inplace=False)\n",
    "sol_S_iJO1366_model = FBA(iJO1366_model, constraints=env_S_iJO1366_model)\n",
    "print('iJO1366 without sulfate: ', sol_S_iJO1366_model)\n",
    "\n",
    "env_S_iEK1008_model = Environment.from_compounds([\"mg2\",'nh4', 'o2','pi','asn__L',\"ca2\",'cit','cl','fe3','h2o','glyc','h','chsterol','etoh']).apply(iEK1008_model, exclusive=True, inplace=False)\n",
    "sol_S_iEK1008_model = FBA(iEK1008_model, constraints=env_S_iEK1008_model)\n",
    "print('iEK1008 without sulfate: ', sol_S_iEK1008_model)\n",
    "\n",
    "env_S_iSB619_model = Environment.from_compounds([\"csn\",'fe2', 'glc__D','h2o','h','nac','o2',\"pi\",'pro__L']).apply(iSB619_model, exclusive=True, inplace=False)\n",
    "sol_S_iSB619_model = FBA(iSB619_model, constraints=env_S_iSB619_model)\n",
    "print('iSB619 without sulfate: ', sol_S_iSB619_model)\n",
    "\n",
    "env_S_iCN900_model = Environment.from_compounds([\"leu__L\",'k', 'pydxn','fe2','ca2','ile__L',\"mg2\",'pro__L','pi','trp__L','pnto__R','na1','zn2','h','co2','val__L', 'h2o','sel','slnt','cobalt2']).apply(iCN900_model, exclusive=True, inplace=False)\n",
    "sol_S_iCN900_model = FBA(iCN900_model, constraints=env_S_iCN900_model)\n",
    "print('iCN900 without sulfate: ', sol_S_iCN900_model)\n"
   ]
  }
 ],
 "metadata": {
  "kernelspec": {
   "display_name": "Python 3 (ipykernel)",
   "language": "python",
   "name": "python3"
  },
  "language_info": {
   "codemirror_mode": {
    "name": "ipython",
    "version": 3
   },
   "file_extension": ".py",
   "mimetype": "text/x-python",
   "name": "python",
   "nbconvert_exporter": "python",
   "pygments_lexer": "ipython3",
   "version": "3.8.11"
  }
 },
 "nbformat": 4,
 "nbformat_minor": 5
}
