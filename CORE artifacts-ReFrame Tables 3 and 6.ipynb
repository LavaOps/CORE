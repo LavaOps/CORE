{
 "cells": [
  {
   "cell_type": "markdown",
   "id": "b0ae1ae2",
   "metadata": {},
   "source": [
    "This notebook produces ReFramed's results in Tables 3 and 6. Dependencies are listed in the readme. This notebook assumes ReFramed is installed as well as a solver. (See readme). "
   ]
  },
  {
   "cell_type": "code",
   "execution_count": 1,
   "id": "5e847fe2",
   "metadata": {},
   "outputs": [],
   "source": [
    "#Import required modules \n",
    "from reframed import load_cbmodel\n",
    "from reframed import essential_genes    \n",
    "from reframed import essential_reactions"
   ]
  },
  {
   "cell_type": "code",
   "execution_count": 2,
   "id": "8b999015",
   "metadata": {},
   "outputs": [
    {
     "name": "stderr",
     "output_type": "stream",
     "text": [
      "/home/alexei/anaconda3/lib/python3.8/site-packages/reframed/io/sbml.py:512: UserWarning: Gene association for reaction R_PFL is not DNF\n",
      "  warn(f\"Gene association for reaction {reaction_id} is not DNF\")\n",
      "/home/alexei/anaconda3/lib/python3.8/site-packages/reframed/io/sbml.py:512: UserWarning: Gene association for reaction R_RNDR1 is not DNF\n",
      "  warn(f\"Gene association for reaction {reaction_id} is not DNF\")\n",
      "/home/alexei/anaconda3/lib/python3.8/site-packages/reframed/io/sbml.py:512: UserWarning: Gene association for reaction R_RNDR3 is not DNF\n",
      "  warn(f\"Gene association for reaction {reaction_id} is not DNF\")\n",
      "/home/alexei/anaconda3/lib/python3.8/site-packages/reframed/io/sbml.py:512: UserWarning: Gene association for reaction R_RNDR4 is not DNF\n",
      "  warn(f\"Gene association for reaction {reaction_id} is not DNF\")\n",
      "/home/alexei/anaconda3/lib/python3.8/site-packages/reframed/io/sbml.py:512: UserWarning: Gene association for reaction R_CITL is not DNF\n",
      "  warn(f\"Gene association for reaction {reaction_id} is not DNF\")\n",
      "/home/alexei/anaconda3/lib/python3.8/site-packages/reframed/io/sbml.py:512: UserWarning: Gene association for reaction R_NO3R1bpp is not DNF\n",
      "  warn(f\"Gene association for reaction {reaction_id} is not DNF\")\n",
      "/home/alexei/anaconda3/lib/python3.8/site-packages/reframed/io/sbml.py:512: UserWarning: Gene association for reaction R_NO3R2bpp is not DNF\n",
      "  warn(f\"Gene association for reaction {reaction_id} is not DNF\")\n",
      "/home/alexei/anaconda3/lib/python3.8/site-packages/reframed/io/sbml.py:512: UserWarning: Gene association for reaction R_ATPS4rpp is not DNF\n",
      "  warn(f\"Gene association for reaction {reaction_id} is not DNF\")\n",
      "/home/alexei/anaconda3/lib/python3.8/site-packages/reframed/io/sbml.py:512: UserWarning: Gene association for reaction R_CPGNtonex is not DNF\n",
      "  warn(f\"Gene association for reaction {reaction_id} is not DNF\")\n",
      "/home/alexei/anaconda3/lib/python3.8/site-packages/reframed/io/sbml.py:512: UserWarning: Gene association for reaction R_FE3DCITtonex is not DNF\n",
      "  warn(f\"Gene association for reaction {reaction_id} is not DNF\")\n",
      "/home/alexei/anaconda3/lib/python3.8/site-packages/reframed/io/sbml.py:512: UserWarning: Gene association for reaction R_FEENTERtonex is not DNF\n",
      "  warn(f\"Gene association for reaction {reaction_id} is not DNF\")\n",
      "/home/alexei/anaconda3/lib/python3.8/site-packages/reframed/io/sbml.py:512: UserWarning: Gene association for reaction R_RNDR3b is not DNF\n",
      "  warn(f\"Gene association for reaction {reaction_id} is not DNF\")\n",
      "/home/alexei/anaconda3/lib/python3.8/site-packages/reframed/io/sbml.py:512: UserWarning: Gene association for reaction R_RNDR4b is not DNF\n",
      "  warn(f\"Gene association for reaction {reaction_id} is not DNF\")\n",
      "/home/alexei/anaconda3/lib/python3.8/site-packages/reframed/io/sbml.py:512: UserWarning: Gene association for reaction R_RNDR1b is not DNF\n",
      "  warn(f\"Gene association for reaction {reaction_id} is not DNF\")\n",
      "/home/alexei/anaconda3/lib/python3.8/site-packages/reframed/io/sbml.py:512: UserWarning: Gene association for reaction R_RNDR2b is not DNF\n",
      "  warn(f\"Gene association for reaction {reaction_id} is not DNF\")\n",
      "/home/alexei/anaconda3/lib/python3.8/site-packages/reframed/io/sbml.py:512: UserWarning: Gene association for reaction R_INDOLEt2pp is not DNF\n",
      "  warn(f\"Gene association for reaction {reaction_id} is not DNF\")\n",
      "/home/alexei/anaconda3/lib/python3.8/site-packages/reframed/io/sbml.py:512: UserWarning: Gene association for reaction R_FECRMtonex is not DNF\n",
      "  warn(f\"Gene association for reaction {reaction_id} is not DNF\")\n",
      "/home/alexei/anaconda3/lib/python3.8/site-packages/reframed/io/sbml.py:512: UserWarning: Gene association for reaction R_FE3HOXtonex is not DNF\n",
      "  warn(f\"Gene association for reaction {reaction_id} is not DNF\")\n",
      "/home/alexei/anaconda3/lib/python3.8/site-packages/reframed/io/sbml.py:512: UserWarning: Gene association for reaction R_FHL is not DNF\n",
      "  warn(f\"Gene association for reaction {reaction_id} is not DNF\")\n",
      "/home/alexei/anaconda3/lib/python3.8/site-packages/reframed/io/sbml.py:512: UserWarning: Gene association for reaction R_RNDR2 is not DNF\n",
      "  warn(f\"Gene association for reaction {reaction_id} is not DNF\")\n",
      "/home/alexei/anaconda3/lib/python3.8/site-packages/reframed/io/sbml.py:512: UserWarning: Gene association for reaction R_CELBpts is not DNF\n",
      "  warn(f\"Gene association for reaction {reaction_id} is not DNF\")\n",
      "/home/alexei/anaconda3/lib/python3.8/site-packages/reframed/io/sbml.py:512: UserWarning: Gene association for reaction R_FE3DHBZStonex is not DNF\n",
      "  warn(f\"Gene association for reaction {reaction_id} is not DNF\")\n",
      "/home/alexei/anaconda3/lib/python3.8/site-packages/reframed/io/sbml.py:512: UserWarning: Gene association for reaction R_FEOXAMtonex is not DNF\n",
      "  warn(f\"Gene association for reaction {reaction_id} is not DNF\")\n",
      "/home/alexei/anaconda3/lib/python3.8/site-packages/reframed/io/sbml.py:512: UserWarning: Gene association for reaction R_OBTFL is not DNF\n",
      "  warn(f\"Gene association for reaction {reaction_id} is not DNF\")\n",
      "/home/alexei/anaconda3/lib/python3.8/site-packages/reframed/io/sbml.py:512: UserWarning: Gene association for reaction R_CHTBSptspp is not DNF\n",
      "  warn(f\"Gene association for reaction {reaction_id} is not DNF\")\n",
      "/home/alexei/anaconda3/lib/python3.8/site-packages/reframed/io/sbml.py:512: UserWarning: Gene association for reaction R_CBL1tonex is not DNF\n",
      "  warn(f\"Gene association for reaction {reaction_id} is not DNF\")\n",
      "/home/alexei/anaconda3/lib/python3.8/site-packages/reframed/io/sbml.py:512: UserWarning: Gene association for reaction R_CBItonex is not DNF\n",
      "  warn(f\"Gene association for reaction {reaction_id} is not DNF\")\n",
      "/home/alexei/anaconda3/lib/python3.8/site-packages/reframed/io/sbml.py:512: UserWarning: Gene association for reaction R_ADOCBLtonex is not DNF\n",
      "  warn(f\"Gene association for reaction {reaction_id} is not DNF\")\n",
      "/home/alexei/anaconda3/lib/python3.8/site-packages/reframed/io/sbml.py:512: UserWarning: Gene association for reaction R_ADNCYC is not DNF\n",
      "  warn(f\"Gene association for reaction {reaction_id} is not DNF\")\n",
      "/home/alexei/anaconda3/lib/python3.8/site-packages/reframed/io/sbml.py:512: UserWarning: Gene association for reaction R_Kabc is not DNF\n",
      "  warn(f\"Gene association for reaction {reaction_id} is not DNF\")\n",
      "/home/alexei/anaconda3/lib/python3.8/site-packages/reframed/io/sbml.py:512: UserWarning: Gene association for reaction R_LPLIPAL2E180 is not DNF\n",
      "  warn(f\"Gene association for reaction {reaction_id} is not DNF\")\n",
      "/home/alexei/anaconda3/lib/python3.8/site-packages/reframed/io/sbml.py:512: UserWarning: Gene association for reaction R_PDH is not DNF\n",
      "  warn(f\"Gene association for reaction {reaction_id} is not DNF\")\n",
      "/home/alexei/anaconda3/lib/python3.8/site-packages/reframed/io/sbml.py:512: UserWarning: Gene association for reaction R_PDHa is not DNF\n",
      "  warn(f\"Gene association for reaction {reaction_id} is not DNF\")\n",
      "/home/alexei/anaconda3/lib/python3.8/site-packages/reframed/io/sbml.py:512: UserWarning: Gene association for reaction R_TDPGDH is not DNF\n",
      "  warn(f\"Gene association for reaction {reaction_id} is not DNF\")\n",
      "/home/alexei/anaconda3/lib/python3.8/site-packages/reframed/io/sbml.py:512: UserWarning: Gene association for reaction R_FAD_5 is not DNF\n",
      "  warn(f\"Gene association for reaction {reaction_id} is not DNF\")\n",
      "/home/alexei/anaconda3/lib/python3.8/site-packages/reframed/io/sbml.py:512: UserWarning: Gene association for reaction R_FAD_6 is not DNF\n",
      "  warn(f\"Gene association for reaction {reaction_id} is not DNF\")\n",
      "/home/alexei/anaconda3/lib/python3.8/site-packages/reframed/io/sbml.py:512: UserWarning: Gene association for reaction R_FAD_7 is not DNF\n",
      "  warn(f\"Gene association for reaction {reaction_id} is not DNF\")\n",
      "/home/alexei/anaconda3/lib/python3.8/site-packages/reframed/io/sbml.py:512: UserWarning: Gene association for reaction R_FAD_8 is not DNF\n",
      "  warn(f\"Gene association for reaction {reaction_id} is not DNF\")\n",
      "/home/alexei/anaconda3/lib/python3.8/site-packages/reframed/io/sbml.py:512: UserWarning: Gene association for reaction R_FAD_9 is not DNF\n",
      "  warn(f\"Gene association for reaction {reaction_id} is not DNF\")\n",
      "/home/alexei/anaconda3/lib/python3.8/site-packages/reframed/io/sbml.py:512: UserWarning: Gene association for reaction R_FAD_10 is not DNF\n",
      "  warn(f\"Gene association for reaction {reaction_id} is not DNF\")\n",
      "/home/alexei/anaconda3/lib/python3.8/site-packages/reframed/io/sbml.py:512: UserWarning: Gene association for reaction R_FAD_11 is not DNF\n",
      "  warn(f\"Gene association for reaction {reaction_id} is not DNF\")\n",
      "/home/alexei/anaconda3/lib/python3.8/site-packages/reframed/io/sbml.py:512: UserWarning: Gene association for reaction R_FAD_12 is not DNF\n",
      "  warn(f\"Gene association for reaction {reaction_id} is not DNF\")\n",
      "/home/alexei/anaconda3/lib/python3.8/site-packages/reframed/io/sbml.py:512: UserWarning: Gene association for reaction R_FAD_13 is not DNF\n",
      "  warn(f\"Gene association for reaction {reaction_id} is not DNF\")\n",
      "/home/alexei/anaconda3/lib/python3.8/site-packages/reframed/io/sbml.py:512: UserWarning: Gene association for reaction R_FAD_14 is not DNF\n",
      "  warn(f\"Gene association for reaction {reaction_id} is not DNF\")\n",
      "/home/alexei/anaconda3/lib/python3.8/site-packages/reframed/io/sbml.py:512: UserWarning: Gene association for reaction R_FAD_15 is not DNF\n",
      "  warn(f\"Gene association for reaction {reaction_id} is not DNF\")\n",
      "/home/alexei/anaconda3/lib/python3.8/site-packages/reframed/io/sbml.py:512: UserWarning: Gene association for reaction R_FAD_16 is not DNF\n",
      "  warn(f\"Gene association for reaction {reaction_id} is not DNF\")\n",
      "/home/alexei/anaconda3/lib/python3.8/site-packages/reframed/io/sbml.py:512: UserWarning: Gene association for reaction R_CPMPS is not DNF\n",
      "  warn(f\"Gene association for reaction {reaction_id} is not DNF\")\n",
      "/home/alexei/anaconda3/lib/python3.8/site-packages/reframed/io/sbml.py:512: UserWarning: Gene association for reaction R_FAD_17 is not DNF\n",
      "  warn(f\"Gene association for reaction {reaction_id} is not DNF\")\n",
      "/home/alexei/anaconda3/lib/python3.8/site-packages/reframed/io/sbml.py:512: UserWarning: Gene association for reaction R_FAD_20 is not DNF\n",
      "  warn(f\"Gene association for reaction {reaction_id} is not DNF\")\n",
      "/home/alexei/anaconda3/lib/python3.8/site-packages/reframed/io/sbml.py:512: UserWarning: Gene association for reaction R_FAD_18 is not DNF\n",
      "  warn(f\"Gene association for reaction {reaction_id} is not DNF\")\n",
      "/home/alexei/anaconda3/lib/python3.8/site-packages/reframed/io/sbml.py:512: UserWarning: Gene association for reaction R_FAD_19 is not DNF\n",
      "  warn(f\"Gene association for reaction {reaction_id} is not DNF\")\n",
      "/home/alexei/anaconda3/lib/python3.8/site-packages/reframed/io/sbml.py:512: UserWarning: Gene association for reaction R_FAD_1 is not DNF\n",
      "  warn(f\"Gene association for reaction {reaction_id} is not DNF\")\n",
      "/home/alexei/anaconda3/lib/python3.8/site-packages/reframed/io/sbml.py:512: UserWarning: Gene association for reaction R_FAD_2 is not DNF\n",
      "  warn(f\"Gene association for reaction {reaction_id} is not DNF\")\n",
      "/home/alexei/anaconda3/lib/python3.8/site-packages/reframed/io/sbml.py:512: UserWarning: Gene association for reaction R_FAD_3 is not DNF\n",
      "  warn(f\"Gene association for reaction {reaction_id} is not DNF\")\n",
      "/home/alexei/anaconda3/lib/python3.8/site-packages/reframed/io/sbml.py:512: UserWarning: Gene association for reaction R_FAD_4 is not DNF\n",
      "  warn(f\"Gene association for reaction {reaction_id} is not DNF\")\n",
      "/home/alexei/anaconda3/lib/python3.8/site-packages/reframed/io/sbml.py:512: UserWarning: Gene association for reaction R_FAD_25 is not DNF\n",
      "  warn(f\"Gene association for reaction {reaction_id} is not DNF\")\n",
      "/home/alexei/anaconda3/lib/python3.8/site-packages/reframed/io/sbml.py:512: UserWarning: Gene association for reaction R_FAD_26 is not DNF\n",
      "  warn(f\"Gene association for reaction {reaction_id} is not DNF\")\n",
      "/home/alexei/anaconda3/lib/python3.8/site-packages/reframed/io/sbml.py:512: UserWarning: Gene association for reaction R_FAD_27 is not DNF\n",
      "  warn(f\"Gene association for reaction {reaction_id} is not DNF\")\n",
      "/home/alexei/anaconda3/lib/python3.8/site-packages/reframed/io/sbml.py:512: UserWarning: Gene association for reaction R_FAD_21 is not DNF\n",
      "  warn(f\"Gene association for reaction {reaction_id} is not DNF\")\n",
      "/home/alexei/anaconda3/lib/python3.8/site-packages/reframed/io/sbml.py:512: UserWarning: Gene association for reaction R_FAD_22 is not DNF\n",
      "  warn(f\"Gene association for reaction {reaction_id} is not DNF\")\n",
      "/home/alexei/anaconda3/lib/python3.8/site-packages/reframed/io/sbml.py:512: UserWarning: Gene association for reaction R_FAD_23 is not DNF\n",
      "  warn(f\"Gene association for reaction {reaction_id} is not DNF\")\n",
      "/home/alexei/anaconda3/lib/python3.8/site-packages/reframed/io/sbml.py:512: UserWarning: Gene association for reaction R_FAD_24 is not DNF\n",
      "  warn(f\"Gene association for reaction {reaction_id} is not DNF\")\n",
      "/home/alexei/anaconda3/lib/python3.8/site-packages/reframed/io/sbml.py:512: UserWarning: Gene association for reaction R_MOAE1 is not DNF\n",
      "  warn(f\"Gene association for reaction {reaction_id} is not DNF\")\n",
      "/home/alexei/anaconda3/lib/python3.8/site-packages/reframed/io/sbml.py:512: UserWarning: Gene association for reaction R_PHEMEt is not DNF\n",
      "  warn(f\"Gene association for reaction {reaction_id} is not DNF\")\n"
     ]
    },
    {
     "name": "stderr",
     "output_type": "stream",
     "text": [
      "/home/alexei/anaconda3/lib/python3.8/site-packages/reframed/io/sbml.py:512: UserWarning: Gene association for reaction R_ACACT1r is not DNF\n",
      "  warn(f\"Gene association for reaction {reaction_id} is not DNF\")\n",
      "/home/alexei/anaconda3/lib/python3.8/site-packages/reframed/io/sbml.py:512: UserWarning: Gene association for reaction R_ACACT2r is not DNF\n",
      "  warn(f\"Gene association for reaction {reaction_id} is not DNF\")\n",
      "/home/alexei/anaconda3/lib/python3.8/site-packages/reframed/io/sbml.py:512: UserWarning: Gene association for reaction R_ACCOAC is not DNF\n",
      "  warn(f\"Gene association for reaction {reaction_id} is not DNF\")\n",
      "/home/alexei/anaconda3/lib/python3.8/site-packages/reframed/io/sbml.py:512: UserWarning: Gene association for reaction R_ACHBS is not DNF\n",
      "  warn(f\"Gene association for reaction {reaction_id} is not DNF\")\n",
      "/home/alexei/anaconda3/lib/python3.8/site-packages/reframed/io/sbml.py:512: UserWarning: Gene association for reaction R_ACLS is not DNF\n",
      "  warn(f\"Gene association for reaction {reaction_id} is not DNF\")\n",
      "/home/alexei/anaconda3/lib/python3.8/site-packages/reframed/io/sbml.py:512: UserWarning: Gene association for reaction R_GLUSx is not DNF\n",
      "  warn(f\"Gene association for reaction {reaction_id} is not DNF\")\n",
      "/home/alexei/anaconda3/lib/python3.8/site-packages/reframed/io/sbml.py:512: UserWarning: Gene association for reaction R_NAt3_1_copy1 is not DNF\n",
      "  warn(f\"Gene association for reaction {reaction_id} is not DNF\")\n",
      "/home/alexei/anaconda3/lib/python3.8/site-packages/reframed/io/sbml.py:512: UserWarning: Gene association for reaction R_METTRS is not DNF\n",
      "  warn(f\"Gene association for reaction {reaction_id} is not DNF\")\n",
      "/home/alexei/anaconda3/lib/python3.8/site-packages/reframed/io/sbml.py:512: UserWarning: Gene association for reaction R_UAG2E is not DNF\n",
      "  warn(f\"Gene association for reaction {reaction_id} is not DNF\")\n",
      "/home/alexei/anaconda3/lib/python3.8/site-packages/reframed/io/sbml.py:512: UserWarning: Gene association for reaction R_UAG2EMA is not DNF\n",
      "  warn(f\"Gene association for reaction {reaction_id} is not DNF\")\n",
      "/home/alexei/anaconda3/lib/python3.8/site-packages/reframed/io/sbml.py:512: UserWarning: Gene association for reaction R_GLCpts is not DNF\n",
      "  warn(f\"Gene association for reaction {reaction_id} is not DNF\")\n",
      "/home/alexei/anaconda3/lib/python3.8/site-packages/reframed/io/sbml.py:512: UserWarning: Gene association for reaction R_ANS is not DNF\n",
      "  warn(f\"Gene association for reaction {reaction_id} is not DNF\")\n",
      "/home/alexei/anaconda3/lib/python3.8/site-packages/reframed/io/sbml.py:512: UserWarning: Gene association for reaction R_TECA2S is not DNF\n",
      "  warn(f\"Gene association for reaction {reaction_id} is not DNF\")\n",
      "/home/alexei/anaconda3/lib/python3.8/site-packages/reframed/io/sbml.py:512: UserWarning: Gene association for reaction R_KAS16 is not DNF\n",
      "  warn(f\"Gene association for reaction {reaction_id} is not DNF\")\n",
      "/home/alexei/anaconda3/lib/python3.8/site-packages/reframed/io/sbml.py:512: UserWarning: Gene association for reaction R_TECA1S is not DNF\n",
      "  warn(f\"Gene association for reaction {reaction_id} is not DNF\")\n",
      "/home/alexei/anaconda3/lib/python3.8/site-packages/reframed/io/sbml.py:512: UserWarning: Gene association for reaction R_TECA3S is not DNF\n",
      "  warn(f\"Gene association for reaction {reaction_id} is not DNF\")\n",
      "/home/alexei/anaconda3/lib/python3.8/site-packages/reframed/io/sbml.py:512: UserWarning: Gene association for reaction R_TECA4S is not DNF\n",
      "  warn(f\"Gene association for reaction {reaction_id} is not DNF\")\n"
     ]
    }
   ],
   "source": [
    "#load models \n",
    "iML1515_model=load_cbmodel('models/iML1515.xml')\n",
    "iJO1366_model=load_cbmodel('models/iJO1366.xml')\n",
    "iEK1008_model=load_cbmodel('models/iEK1008.xml')\n",
    "iSB619_model=load_cbmodel('models/iSB619.xml')\n",
    "iCN900_model=load_cbmodel('models/iCN900.xml')\n",
    "iML1515_KBase_model=load_cbmodel('models/iML1515_KBase.xml')\n",
    "iBsu1103_model=load_cbmodel('models/iBsu1103.xml')"
   ]
  },
  {
   "cell_type": "markdown",
   "id": "f45af71d",
   "metadata": {},
   "source": [
    "**The next three cells produce (1) the number of genes in the networks, (2) the number of reactions in the networks, and (3) the number of metabolites in the network.**"
   ]
  },
  {
   "cell_type": "markdown",
   "id": "0b34e4e0",
   "metadata": {},
   "source": [
    "*cell 1*"
   ]
  },
  {
   "cell_type": "code",
   "execution_count": 3,
   "id": "52a52a54",
   "metadata": {},
   "outputs": [
    {
     "name": "stdout",
     "output_type": "stream",
     "text": [
      "iML1515 gene count:  1516\n",
      "iJO1366 gene count:  1367\n",
      "iEK1008 gene count:  1008\n",
      "iSB619 gene count:  619\n",
      "iCN900 gene count:  900\n",
      "iML1515_KBase gene count:  1515\n",
      "iBsu1103 gene count:  1109\n"
     ]
    }
   ],
   "source": [
    "print(\"iML1515 gene count: \",  len(iML1515_model.genes))\n",
    "print(\"iJO1366 gene count: \", len(iJO1366_model.genes))\n",
    "print(\"iEK1008 gene count: \", len(iEK1008_model.genes))\n",
    "print(\"iSB619 gene count: \", len(iSB619_model.genes))\n",
    "print(\"iCN900 gene count: \", len(iCN900_model.genes))\n",
    "print(\"iML1515_KBase gene count: \", len(iML1515_KBase_model.genes))\n",
    "print(\"iBsu1103 gene count: \", len(iBsu1103_model.genes))"
   ]
  },
  {
   "cell_type": "markdown",
   "id": "b5fe7559",
   "metadata": {},
   "source": [
    "*cell 2*"
   ]
  },
  {
   "cell_type": "code",
   "execution_count": 4,
   "id": "7bf2b217",
   "metadata": {},
   "outputs": [
    {
     "name": "stdout",
     "output_type": "stream",
     "text": [
      "iML1515 reaction count:  2712\n",
      "iJO1366 reaction count:  2583\n",
      "iEK1008 reaction count:  1226\n",
      "iSB619 reaction count:  743\n",
      "iCN900 reaction count:  1229\n",
      "iML1515_KBase reaction count:  2723\n",
      "iBsu1103 reaction count:  1681\n"
     ]
    }
   ],
   "source": [
    "print(\"iML1515 reaction count: \",  len(iML1515_model.reactions))\n",
    "print(\"iJO1366 reaction count: \", len(iJO1366_model.reactions))\n",
    "print(\"iEK1008 reaction count: \", len(iEK1008_model.reactions))\n",
    "print(\"iSB619 reaction count: \", len(iSB619_model.reactions))\n",
    "print(\"iCN900 reaction count: \", len(iCN900_model.reactions))\n",
    "print(\"iML1515_KBase reaction count: \", len(iML1515_KBase_model.reactions))\n",
    "print(\"iBsu1103 reaction count: \", len(iBsu1103_model.reactions))"
   ]
  },
  {
   "cell_type": "markdown",
   "id": "5553382e",
   "metadata": {},
   "source": [
    "*cell 3*"
   ]
  },
  {
   "cell_type": "code",
   "execution_count": 5,
   "id": "d70853f4",
   "metadata": {},
   "outputs": [
    {
     "name": "stdout",
     "output_type": "stream",
     "text": [
      "iML1515 metabolite count:  1877\n",
      "iJO1366 metabolite count:  1805\n",
      "iEK1008 metabolite count:  998\n",
      "iSB619 metabolite count:  655\n",
      "iCN900 metabolite count:  885\n",
      "iML1515_KBase metabolite count:  1877\n",
      "iBsu1103 metabolite count:  1381\n"
     ]
    }
   ],
   "source": [
    "print(\"iML1515 metabolite count: \",  len(iML1515_model.metabolites))\n",
    "print(\"iJO1366 metabolite count: \", len(iJO1366_model.metabolites))\n",
    "print(\"iEK1008 metabolite count: \", len(iEK1008_model.metabolites))\n",
    "print(\"iSB619 metabolite count: \", len(iSB619_model.metabolites))\n",
    "print(\"iCN900 metabolite count: \", len(iCN900_model.metabolites))\n",
    "print(\"iML1515_KBase metabolite count: \", len(iML1515_KBase_model.metabolites))\n",
    "print(\"iBsu1103 metabolite count: \", len(iBsu1103_model.metabolites))"
   ]
  },
  {
   "cell_type": "markdown",
   "id": "e5dedf22",
   "metadata": {},
   "source": [
    "**The next two cells produce (1) the number of essential genes in the networks and (2) the number of essential reactions in the networks.**"
   ]
  },
  {
   "cell_type": "markdown",
   "id": "9c22ff22",
   "metadata": {},
   "source": [
    "*cell 1*"
   ]
  },
  {
   "cell_type": "code",
   "execution_count": 6,
   "id": "49282c18",
   "metadata": {},
   "outputs": [
    {
     "name": "stdout",
     "output_type": "stream",
     "text": [
      "iML1515 essential gene count:  196\n",
      "iJO1366 essential gene count:  208\n",
      "iEK1008 essential gene count:  269\n",
      "iSB619 essential gene count:  155\n",
      "iCN900 essential gene count:  0\n"
     ]
    },
    {
     "ename": "TypeError",
     "evalue": "unsupported operand type(s) for *: 'float' and 'NoneType'",
     "output_type": "error",
     "traceback": [
      "\u001b[0;31m---------------------------------------------------------------------------\u001b[0m",
      "\u001b[0;31mTypeError\u001b[0m                                 Traceback (most recent call last)",
      "Input \u001b[0;32mIn [6]\u001b[0m, in \u001b[0;36m<cell line: 6>\u001b[0;34m()\u001b[0m\n\u001b[1;32m      4\u001b[0m \u001b[38;5;28mprint\u001b[39m(\u001b[38;5;124m\"\u001b[39m\u001b[38;5;124miSB619 essential gene count: \u001b[39m\u001b[38;5;124m\"\u001b[39m,  \u001b[38;5;28mlen\u001b[39m(essential_genes(iSB619_model)))\n\u001b[1;32m      5\u001b[0m \u001b[38;5;28mprint\u001b[39m(\u001b[38;5;124m\"\u001b[39m\u001b[38;5;124miCN900 essential gene count: \u001b[39m\u001b[38;5;124m\"\u001b[39m,  \u001b[38;5;28mlen\u001b[39m(essential_genes(iCN900_model)))\n\u001b[0;32m----> 6\u001b[0m \u001b[38;5;28mprint\u001b[39m(\u001b[38;5;124m\"\u001b[39m\u001b[38;5;124miML1515_KBase essential gene count: \u001b[39m\u001b[38;5;124m\"\u001b[39m,  \u001b[38;5;28mlen\u001b[39m(\u001b[43messential_genes\u001b[49m\u001b[43m(\u001b[49m\u001b[43miML1515_KBase_model\u001b[49m\u001b[43m)\u001b[49m))\n\u001b[1;32m      7\u001b[0m \u001b[38;5;28mprint\u001b[39m(\u001b[38;5;124m\"\u001b[39m\u001b[38;5;124miBsu1103 essential gene count: \u001b[39m\u001b[38;5;124m\"\u001b[39m,  \u001b[38;5;28mlen\u001b[39m(essential_genes(iBsu1103_model)))\n",
      "File \u001b[0;32m~/anaconda3/lib/python3.8/site-packages/reframed/cobra/knockout.py:146\u001b[0m, in \u001b[0;36messential_genes\u001b[0;34m(model, min_growth, constraints, solver)\u001b[0m\n\u001b[1;32m    134\u001b[0m \u001b[38;5;28;01mdef\u001b[39;00m \u001b[38;5;21messential_genes\u001b[39m(model, min_growth\u001b[38;5;241m=\u001b[39m\u001b[38;5;241m0.01\u001b[39m, constraints\u001b[38;5;241m=\u001b[39m\u001b[38;5;28;01mNone\u001b[39;00m, solver\u001b[38;5;241m=\u001b[39m\u001b[38;5;28;01mNone\u001b[39;00m):\n\u001b[1;32m    135\u001b[0m     \u001b[38;5;124;03m\"\"\" Compute the set of essential genes for the given experimental conditions.\u001b[39;00m\n\u001b[1;32m    136\u001b[0m \n\u001b[1;32m    137\u001b[0m \u001b[38;5;124;03m    Arguments:\u001b[39;00m\n\u001b[0;32m   (...)\u001b[0m\n\u001b[1;32m    144\u001b[0m \u001b[38;5;124;03m        list: essential genes\u001b[39;00m\n\u001b[1;32m    145\u001b[0m \u001b[38;5;124;03m    \"\"\"\u001b[39;00m\n\u001b[0;32m--> 146\u001b[0m     \u001b[38;5;28;01mreturn\u001b[39;00m \u001b[43messentiality\u001b[49m\u001b[43m(\u001b[49m\u001b[43mmodel\u001b[49m\u001b[43m,\u001b[49m\u001b[43m \u001b[49m\u001b[38;5;124;43m'\u001b[39;49m\u001b[38;5;124;43mgenes\u001b[39;49m\u001b[38;5;124;43m'\u001b[39;49m\u001b[43m,\u001b[49m\u001b[43m \u001b[49m\u001b[43mmin_growth\u001b[49m\u001b[43m,\u001b[49m\u001b[43m \u001b[49m\u001b[43mconstraints\u001b[49m\u001b[43m,\u001b[49m\u001b[43m \u001b[49m\u001b[43msolver\u001b[49m\u001b[43m)\u001b[49m\n",
      "File \u001b[0;32m~/anaconda3/lib/python3.8/site-packages/reframed/cobra/knockout.py:200\u001b[0m, in \u001b[0;36messentiality\u001b[0;34m(model, kind, min_growth, constraints, solver)\u001b[0m\n\u001b[1;32m    196\u001b[0m     \u001b[38;5;28;01melse\u001b[39;00m:\n\u001b[1;32m    197\u001b[0m         solution \u001b[38;5;241m=\u001b[39m reaction_knockout(model, [elem], constraints\u001b[38;5;241m=\u001b[39mconstraints, solver\u001b[38;5;241m=\u001b[39msolver)\n\u001b[1;32m    199\u001b[0m     \u001b[38;5;28;01mif\u001b[39;00m (solution \u001b[38;5;129;01mis\u001b[39;00m \u001b[38;5;129;01mnot\u001b[39;00m \u001b[38;5;28;01mNone\u001b[39;00m\n\u001b[0;32m--> 200\u001b[0m             \u001b[38;5;129;01mand\u001b[39;00m ((solution\u001b[38;5;241m.\u001b[39mstatus \u001b[38;5;241m==\u001b[39m Status\u001b[38;5;241m.\u001b[39mOPTIMAL \u001b[38;5;129;01mand\u001b[39;00m solution\u001b[38;5;241m.\u001b[39mfobj \u001b[38;5;241m<\u001b[39m \u001b[43mmin_growth\u001b[49m\u001b[43m \u001b[49m\u001b[38;5;241;43m*\u001b[39;49m\u001b[43m \u001b[49m\u001b[43mwt_growth\u001b[49m)\n\u001b[1;32m    201\u001b[0m                  \u001b[38;5;129;01mor\u001b[39;00m solution\u001b[38;5;241m.\u001b[39mstatus \u001b[38;5;241m==\u001b[39m Status\u001b[38;5;241m.\u001b[39mINFEASIBLE)):\n\u001b[1;32m    202\u001b[0m         essential\u001b[38;5;241m.\u001b[39mappend(elem)\n\u001b[1;32m    204\u001b[0m \u001b[38;5;28;01mreturn\u001b[39;00m essential\n",
      "\u001b[0;31mTypeError\u001b[0m: unsupported operand type(s) for *: 'float' and 'NoneType'"
     ]
    }
   ],
   "source": [
    "print(\"iML1515 essential gene count: \",  len(essential_genes(iML1515_model)))\n",
    "print(\"iJO1366 essential gene count: \",  len(essential_genes(iJO1366_model)))\n",
    "print(\"iEK1008 essential gene count: \",  len(essential_genes(iEK1008_model)))\n",
    "print(\"iSB619 essential gene count: \",  len(essential_genes(iSB619_model)))\n",
    "print(\"iCN900 essential gene count: \",  len(essential_genes(iCN900_model)))\n",
    "print(\"iML1515_KBase essential gene count: \",  len(essential_genes(iML1515_KBase_model)))\n",
    "print(\"iBsu1103 essential gene count: \",  len(essential_genes(iBsu1103_model)))"
   ]
  },
  {
   "cell_type": "markdown",
   "id": "dfb181cc",
   "metadata": {},
   "source": [
    "*cell 2*"
   ]
  },
  {
   "cell_type": "code",
   "execution_count": 7,
   "id": "ac2b1ad1",
   "metadata": {},
   "outputs": [
    {
     "name": "stdout",
     "output_type": "stream",
     "text": [
      "iML1515 essential reaction count:  271\n",
      "iJO1366 essential reaction count:  289\n",
      "iEK1008 essential reaction count:  357\n",
      "iSB619 essential reaction count:  244\n",
      "iCN900 essential reaction count:  0\n"
     ]
    },
    {
     "ename": "TypeError",
     "evalue": "unsupported operand type(s) for *: 'float' and 'NoneType'",
     "output_type": "error",
     "traceback": [
      "\u001b[0;31m---------------------------------------------------------------------------\u001b[0m",
      "\u001b[0;31mTypeError\u001b[0m                                 Traceback (most recent call last)",
      "Input \u001b[0;32mIn [7]\u001b[0m, in \u001b[0;36m<cell line: 6>\u001b[0;34m()\u001b[0m\n\u001b[1;32m      4\u001b[0m \u001b[38;5;28mprint\u001b[39m(\u001b[38;5;124m\"\u001b[39m\u001b[38;5;124miSB619 essential reaction count: \u001b[39m\u001b[38;5;124m\"\u001b[39m,  \u001b[38;5;28mlen\u001b[39m(essential_reactions(iSB619_model)))\n\u001b[1;32m      5\u001b[0m \u001b[38;5;28mprint\u001b[39m(\u001b[38;5;124m\"\u001b[39m\u001b[38;5;124miCN900 essential reaction count: \u001b[39m\u001b[38;5;124m\"\u001b[39m,  \u001b[38;5;28mlen\u001b[39m(essential_reactions(iCN900_model)))\n\u001b[0;32m----> 6\u001b[0m \u001b[38;5;28mprint\u001b[39m(\u001b[38;5;124m\"\u001b[39m\u001b[38;5;124miML1515_KBase essential reaction count: \u001b[39m\u001b[38;5;124m\"\u001b[39m,  \u001b[38;5;28mlen\u001b[39m(\u001b[43messential_reactions\u001b[49m\u001b[43m(\u001b[49m\u001b[43miML1515_KBase_model\u001b[49m\u001b[43m)\u001b[49m))\n\u001b[1;32m      7\u001b[0m \u001b[38;5;28mprint\u001b[39m(\u001b[38;5;124m\"\u001b[39m\u001b[38;5;124miBsu1103 essential reaction count: \u001b[39m\u001b[38;5;124m\"\u001b[39m,  \u001b[38;5;28mlen\u001b[39m(essential_reactions(iBsu1103_model)))\n",
      "File \u001b[0;32m~/anaconda3/lib/python3.8/site-packages/reframed/cobra/knockout.py:162\u001b[0m, in \u001b[0;36messential_reactions\u001b[0;34m(model, min_growth, constraints, solver)\u001b[0m\n\u001b[1;32m    149\u001b[0m \u001b[38;5;28;01mdef\u001b[39;00m \u001b[38;5;21messential_reactions\u001b[39m(model, min_growth\u001b[38;5;241m=\u001b[39m\u001b[38;5;241m0.01\u001b[39m, constraints\u001b[38;5;241m=\u001b[39m\u001b[38;5;28;01mNone\u001b[39;00m, solver\u001b[38;5;241m=\u001b[39m\u001b[38;5;28;01mNone\u001b[39;00m):\n\u001b[1;32m    150\u001b[0m     \u001b[38;5;124;03m\"\"\" Compute the set of essential reactions for the given experimental conditions.\u001b[39;00m\n\u001b[1;32m    151\u001b[0m \n\u001b[1;32m    152\u001b[0m \u001b[38;5;124;03m    Arguments:\u001b[39;00m\n\u001b[0;32m   (...)\u001b[0m\n\u001b[1;32m    159\u001b[0m \u001b[38;5;124;03m        list: essential reactions\u001b[39;00m\n\u001b[1;32m    160\u001b[0m \u001b[38;5;124;03m    \"\"\"\u001b[39;00m\n\u001b[0;32m--> 162\u001b[0m     \u001b[38;5;28;01mreturn\u001b[39;00m \u001b[43messentiality\u001b[49m\u001b[43m(\u001b[49m\u001b[43mmodel\u001b[49m\u001b[43m,\u001b[49m\u001b[43m \u001b[49m\u001b[38;5;124;43m'\u001b[39;49m\u001b[38;5;124;43mreactions\u001b[39;49m\u001b[38;5;124;43m'\u001b[39;49m\u001b[43m,\u001b[49m\u001b[43m \u001b[49m\u001b[43mmin_growth\u001b[49m\u001b[43m,\u001b[49m\u001b[43m \u001b[49m\u001b[43mconstraints\u001b[49m\u001b[43m,\u001b[49m\u001b[43m \u001b[49m\u001b[43msolver\u001b[49m\u001b[43m)\u001b[49m\n",
      "File \u001b[0;32m~/anaconda3/lib/python3.8/site-packages/reframed/cobra/knockout.py:200\u001b[0m, in \u001b[0;36messentiality\u001b[0;34m(model, kind, min_growth, constraints, solver)\u001b[0m\n\u001b[1;32m    196\u001b[0m     \u001b[38;5;28;01melse\u001b[39;00m:\n\u001b[1;32m    197\u001b[0m         solution \u001b[38;5;241m=\u001b[39m reaction_knockout(model, [elem], constraints\u001b[38;5;241m=\u001b[39mconstraints, solver\u001b[38;5;241m=\u001b[39msolver)\n\u001b[1;32m    199\u001b[0m     \u001b[38;5;28;01mif\u001b[39;00m (solution \u001b[38;5;129;01mis\u001b[39;00m \u001b[38;5;129;01mnot\u001b[39;00m \u001b[38;5;28;01mNone\u001b[39;00m\n\u001b[0;32m--> 200\u001b[0m             \u001b[38;5;129;01mand\u001b[39;00m ((solution\u001b[38;5;241m.\u001b[39mstatus \u001b[38;5;241m==\u001b[39m Status\u001b[38;5;241m.\u001b[39mOPTIMAL \u001b[38;5;129;01mand\u001b[39;00m solution\u001b[38;5;241m.\u001b[39mfobj \u001b[38;5;241m<\u001b[39m \u001b[43mmin_growth\u001b[49m\u001b[43m \u001b[49m\u001b[38;5;241;43m*\u001b[39;49m\u001b[43m \u001b[49m\u001b[43mwt_growth\u001b[49m)\n\u001b[1;32m    201\u001b[0m                  \u001b[38;5;129;01mor\u001b[39;00m solution\u001b[38;5;241m.\u001b[39mstatus \u001b[38;5;241m==\u001b[39m Status\u001b[38;5;241m.\u001b[39mINFEASIBLE)):\n\u001b[1;32m    202\u001b[0m         essential\u001b[38;5;241m.\u001b[39mappend(elem)\n\u001b[1;32m    204\u001b[0m \u001b[38;5;28;01mreturn\u001b[39;00m essential\n",
      "\u001b[0;31mTypeError\u001b[0m: unsupported operand type(s) for *: 'float' and 'NoneType'"
     ]
    }
   ],
   "source": [
    "print(\"iML1515 essential reaction count: \",  len(essential_reactions(iML1515_model)))\n",
    "print(\"iJO1366 essential reaction count: \",  len(essential_reactions(iJO1366_model)))\n",
    "print(\"iEK1008 essential reaction count: \",  len(essential_reactions(iEK1008_model)))\n",
    "print(\"iSB619 essential reaction count: \",  len(essential_reactions(iSB619_model)))\n",
    "print(\"iCN900 essential reaction count: \",  len(essential_reactions(iCN900_model)))\n",
    "print(\"iML1515_KBase essential reaction count: \",  len(essential_reactions(iML1515_KBase_model)))\n",
    "print(\"iBsu1103 essential reaction count: \",  len(essential_reactions(iBsu1103_model)))"
   ]
  }
 ],
 "metadata": {
  "kernelspec": {
   "display_name": "Python 3 (ipykernel)",
   "language": "python",
   "name": "python3"
  },
  "language_info": {
   "codemirror_mode": {
    "name": "ipython",
    "version": 3
   },
   "file_extension": ".py",
   "mimetype": "text/x-python",
   "name": "python",
   "nbconvert_exporter": "python",
   "pygments_lexer": "ipython3",
   "version": "3.8.11"
  }
 },
 "nbformat": 4,
 "nbformat_minor": 5
}
