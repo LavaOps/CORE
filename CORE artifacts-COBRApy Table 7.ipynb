{
 "cells": [
  {
   "cell_type": "markdown",
   "id": "fdffd64c",
   "metadata": {},
   "source": [
    "This notebook produces COBRApy's results when essential nutrients are removed as shown in Table 7. The model media was used (as defined in the paper). Dependencies are listed in the readme. This notebook assumes COBRApy is installed as well as a solver. (See readme). "
   ]
  },
  {
   "cell_type": "code",
   "execution_count": 1,
   "id": "53061218",
   "metadata": {},
   "outputs": [],
   "source": [
    "#Import require modules\n",
    "import cobra\n",
    "from cobra.io import read_sbml_model"
   ]
  },
  {
   "cell_type": "code",
   "execution_count": 2,
   "id": "010d7d72",
   "metadata": {},
   "outputs": [],
   "source": [
    "#Load models \n",
    "iML1515_model=read_sbml_model('models/iML1515.xml')\n",
    "iJO1366_model=read_sbml_model('models/iJO1366.xml')\n",
    "iEK1008_model=read_sbml_model('models/iEK1008.xml')\n",
    "iSB619_model=read_sbml_model('models/iSB619.xml')\n",
    "iCN900_model=read_sbml_model('models/iCN900.xml')"
   ]
  },
  {
   "cell_type": "markdown",
   "id": "60a2a945",
   "metadata": {},
   "source": [
    "**The following cells produce the biomass produced for all models except iML1515-KBase and iBsu1103 (due to the complexity of their media) when (1) carbon is removed from the enviroment, (2) oxgyen is removed from the enviroment, (3) nitrogen is removed from the enviroment, (4) phosphate is removed from the enviroment, (5) sulfate is removed from the enviroment.**"
   ]
  },
  {
   "cell_type": "markdown",
   "id": "3b91807b",
   "metadata": {},
   "source": [
    "*cell 1*"
   ]
  },
  {
   "cell_type": "code",
   "execution_count": 3,
   "id": "4c4c5980",
   "metadata": {},
   "outputs": [
    {
     "name": "stdout",
     "output_type": "stream",
     "text": [
      "iML1515 without carbon:  nan\n",
      "iJO1366 without carbon:  nan\n",
      "iEK1008 without carbon:  nan\n",
      "iSB619 without carbon:  0.0\n",
      "iCN900 without carbon:  0.0\n"
     ]
    }
   ],
   "source": [
    "iML1515_model=read_sbml_model('models/iML1515.xml')\n",
    "medium = iML1515_model.medium\n",
    "medium['EX_glc__D_e']=0\n",
    "iML1515_model.medium = medium\n",
    "print('iML1515 without carbon: ', iML1515_model.slim_optimize())\n",
    "\n",
    "iJO1366_model=read_sbml_model('models/iJO1366.xml')\n",
    "medium = iJO1366_model.medium\n",
    "medium['EX_glc__D_e']=0\n",
    "iJO1366_model.medium = medium\n",
    "print('iJO1366 without carbon: ', iJO1366_model.slim_optimize())\n",
    "\n",
    "iEK1008_model=read_sbml_model('models/iEK1008.xml')\n",
    "medium = iEK1008_model.medium\n",
    "medium['EX_glyc_e']=0\n",
    "medium['EX_asn__L_e']=0\n",
    "medium['EX_cit_e']=0\n",
    "medium['EX_chsterol_e']=0\n",
    "medium['EX_etoh_e']=0\n",
    "iEK1008_model.medium = medium\n",
    "print('iEK1008 without carbon: ', iEK1008_model.slim_optimize())\n",
    "\n",
    "iSB619_model=read_sbml_model('models/iSB619.xml')\n",
    "medium = iSB619_model.medium\n",
    "medium['EX_glc__D_e']=0\n",
    "medium['EX_csn_e']=0\n",
    "medium['EX_nac_e']=0\n",
    "medium['EX_pro__L_e']=0\n",
    "medium['EX_thm_e']=0\n",
    "iSB619_model.medium = medium\n",
    "print('iSB619 without carbon: ', iSB619_model.slim_optimize())\n",
    "\n",
    "iCN900_model=read_sbml_model('models/iCN900.xml')\n",
    "medium = iCN900_model.medium\n",
    "medium['EX_leu__L_e']=0\n",
    "medium['EX_pydxn_e']=0\n",
    "medium['EX_ile__L_e']=0\n",
    "medium['EX_pro__L_e']=0\n",
    "medium['EX_trp__L_e']=0\n",
    "medium['EX_met__L_e']=0\n",
    "medium['EX_cys__L_e']=0\n",
    "medium['EX_btn_e']=0\n",
    "medium['EX_pnto__R_e']=0\n",
    "medium['EX_val__L_e']=0\n",
    "iCN900_model.medium = medium\n",
    "print('iCN900 without carbon: ', iCN900_model.slim_optimize())\n",
    "\n"
   ]
  },
  {
   "cell_type": "markdown",
   "id": "676fb106",
   "metadata": {},
   "source": [
    "*cell 2*"
   ]
  },
  {
   "cell_type": "code",
   "execution_count": 4,
   "id": "a3b2ea73",
   "metadata": {},
   "outputs": [
    {
     "name": "stdout",
     "output_type": "stream",
     "text": [
      "iML1515 without oxygen:  0.15753981693759497\n",
      "iJO1366 without oxygen:  0.24150155709717572\n",
      "iEK1008 without oxygen:  nan\n",
      "iSB619 without oxygen:  0.0\n",
      "iCN900: anaerobic, no o2 in model \n"
     ]
    }
   ],
   "source": [
    "iML1515_model=read_sbml_model('models/iML1515.xml')\n",
    "medium = iML1515_model.medium\n",
    "medium['EX_o2_e']=0\n",
    "iML1515_model.medium = medium\n",
    "iML1515_model.slim_optimize()\n",
    "print('iML1515 without oxygen: ', iML1515_model.slim_optimize())\n",
    "\n",
    "iJO1366_model=read_sbml_model('models/iJO1366.xml')\n",
    "medium = iJO1366_model.medium\n",
    "medium['EX_o2_e']=0\n",
    "iJO1366_model.medium = medium\n",
    "iJO1366_model.slim_optimize()\n",
    "print('iJO1366 without oxygen: ', iJO1366_model.slim_optimize())\n",
    "\n",
    "iEK1008_model=read_sbml_model('models/iEK1008.xml')\n",
    "medium = iEK1008_model.medium\n",
    "medium['EX_o2_e']=0\n",
    "iEK1008_model.medium = medium\n",
    "print('iEK1008 without oxygen: ', iEK1008_model.slim_optimize())\n",
    "\n",
    "iSB619_model=read_sbml_model('models/iSB619.xml')\n",
    "medium = iSB619_model.medium\n",
    "medium['EX_o2_e']=0\n",
    "iSB619_model.medium = medium\n",
    "print('iSB619 without oxygen: ', iSB619_model.slim_optimize())\n",
    "\n",
    "#iCN900_model=read_sbml_model('models/iCN900.xml')\n",
    "#medium = iCN900_model.medium\n",
    "#medium['EX_o2_e']=0\n",
    "#iCN900_model.medium = medium\n",
    "print('iCN900: anaerobic, no o2 in model ')#, iCN900_model.slim_optimize())"
   ]
  },
  {
   "cell_type": "markdown",
   "id": "9784f24b",
   "metadata": {},
   "source": [
    "*cell 3*"
   ]
  },
  {
   "cell_type": "code",
   "execution_count": 5,
   "id": "63ebd0d0",
   "metadata": {},
   "outputs": [
    {
     "name": "stdout",
     "output_type": "stream",
     "text": [
      "iML1515 without nitrogen:  0.0\n",
      "iJO1366 without nitrogen:  0.0\n",
      "iEK1008 without nitrogen:  0.0\n",
      "iSB619 without nitrogen:  0.0\n",
      "iCN900 without nitrogen:  0.0\n"
     ]
    }
   ],
   "source": [
    "iML1515_model=read_sbml_model('models/iML1515.xml')\n",
    "medium = iML1515_model.medium\n",
    "medium['EX_nh4_e']=0\n",
    "iML1515_model.medium = medium\n",
    "iML1515_model.slim_optimize()\n",
    "print('iML1515 without nitrogen: ', iML1515_model.slim_optimize())\n",
    "\n",
    "iJO1366_model=read_sbml_model('models/iJO1366.xml')\n",
    "medium = iJO1366_model.medium\n",
    "medium['EX_nh4_e']=0\n",
    "iJO1366_model.medium = medium\n",
    "iJO1366_model.slim_optimize()\n",
    "print('iJO1366 without nitrogen: ', iJO1366_model.slim_optimize())\n",
    "\n",
    "iEK1008_model=read_sbml_model('models/iEK1008.xml')\n",
    "medium = iEK1008_model.medium\n",
    "medium['EX_nh4_e']=0\n",
    "medium['EX_asn__L_e']=0\n",
    "iEK1008_model.medium = medium\n",
    "print('iEK1008 without nitrogen: ', iEK1008_model.slim_optimize())\n",
    "\n",
    "iSB619_model=read_sbml_model('models/iSB619.xml')\n",
    "medium = iSB619_model.medium\n",
    "medium['EX_csn_e']=0\n",
    "medium['EX_nac_e']=0\n",
    "medium['EX_pro__L_e']=0\n",
    "medium['EX_thm_e']=0\n",
    "iSB619_model.medium = medium\n",
    "print('iSB619 without nitrogen: ', iSB619_model.slim_optimize())\n",
    "\n",
    "iCN900_model=read_sbml_model('models/iCN900.xml')\n",
    "medium = iCN900_model.medium\n",
    "medium['EX_leu__L_e']=0\n",
    "medium['EX_pydxn_e']=0\n",
    "medium['EX_ile__L_e']=0\n",
    "medium['EX_pro__L_e']=0\n",
    "medium['EX_trp__L_e']=0\n",
    "medium['EX_met__L_e']=0\n",
    "medium['EX_cys__L_e']=0\n",
    "medium['EX_btn_e']=0\n",
    "medium['EX_pnto__R_e']=0\n",
    "medium['EX_val__L_e']=0\n",
    "iCN900_model.medium = medium\n",
    "print('iCN900 without nitrogen: ', iCN900_model.slim_optimize())"
   ]
  },
  {
   "cell_type": "markdown",
   "id": "78ad6e4a",
   "metadata": {},
   "source": [
    "*cell 4*"
   ]
  },
  {
   "cell_type": "code",
   "execution_count": 6,
   "id": "c107b179",
   "metadata": {},
   "outputs": [
    {
     "name": "stdout",
     "output_type": "stream",
     "text": [
      "iML1515 without phosphate:  0.0\n",
      "iJO1366 without phosphate:  0.0\n",
      "iEK1008 without phosphate:  0.0\n",
      "iSB619 without phosphate:  0.0\n",
      "iCN900 without phosphate:  0.0\n"
     ]
    }
   ],
   "source": [
    "iML1515_model=read_sbml_model('models/iML1515.xml')\n",
    "medium = iML1515_model.medium\n",
    "medium['EX_pi_e']=0\n",
    "iML1515_model.medium = medium\n",
    "iML1515_model.slim_optimize()\n",
    "print('iML1515 without phosphate: ', iML1515_model.slim_optimize())\n",
    "\n",
    "iJO1366_model=read_sbml_model('models/iJO1366.xml')\n",
    "medium = iJO1366_model.medium\n",
    "medium['EX_pi_e']=0\n",
    "iJO1366_model.medium = medium\n",
    "iJO1366_model.slim_optimize()\n",
    "print('iJO1366 without phosphate: ', iJO1366_model.slim_optimize())\n",
    "\n",
    "iEK1008_model=read_sbml_model('models/iEK1008.xml')\n",
    "medium = iEK1008_model.medium\n",
    "medium['EX_pi_e']=0\n",
    "iEK1008_model.medium = medium\n",
    "print('iEK1008 without phosphate: ', iEK1008_model.slim_optimize())\n",
    "\n",
    "iSB619_model=read_sbml_model('models/iSB619.xml')\n",
    "medium = iSB619_model.medium\n",
    "medium['EX_pi_e']=0\n",
    "iSB619_model.medium = medium\n",
    "print('iSB619 without phosphate: ', iSB619_model.slim_optimize())\n",
    "\n",
    "iCN900_model=read_sbml_model('models/iCN900.xml')\n",
    "medium = iCN900_model.medium\n",
    "medium['EX_pi_e']=0\n",
    "iCN900_model.medium = medium\n",
    "print('iCN900 without phosphate: ', iCN900_model.slim_optimize())"
   ]
  },
  {
   "cell_type": "markdown",
   "id": "c84d12fb",
   "metadata": {},
   "source": [
    "*cell 5*"
   ]
  },
  {
   "cell_type": "code",
   "execution_count": 7,
   "id": "3b0b6704",
   "metadata": {},
   "outputs": [
    {
     "name": "stdout",
     "output_type": "stream",
     "text": [
      "iML1515 without sulfate:  0.0\n",
      "iJO1366 without sulfate:  0.0\n",
      "iEK1008 without sulfate:  0.0\n",
      "iSB619 without sulfate:  0.0\n",
      "iCN900 without sulfate:  0.0\n"
     ]
    }
   ],
   "source": [
    "iML1515_model=read_sbml_model('models/iML1515.xml')\n",
    "medium = iML1515_model.medium\n",
    "medium['EX_so4_e']=0\n",
    "iML1515_model.medium = medium\n",
    "iML1515_model.slim_optimize()\n",
    "print('iML1515 without sulfate: ', iML1515_model.slim_optimize())\n",
    "\n",
    "iJO1366_model=read_sbml_model('models/iJO1366.xml')\n",
    "medium = iJO1366_model.medium\n",
    "medium['EX_so4_e']=0\n",
    "iJO1366_model.medium = medium\n",
    "iJO1366_model.slim_optimize()\n",
    "print('iJO1366 without sulfate: ', iJO1366_model.slim_optimize())\n",
    "\n",
    "iEK1008_model=read_sbml_model('models/iEK1008.xml')\n",
    "medium = iEK1008_model.medium\n",
    "medium['EX_so4_e']=0\n",
    "iEK1008_model.medium = medium\n",
    "print('iEK1008 without sulfate: ', iEK1008_model.slim_optimize())\n",
    "\n",
    "iSB619_model=read_sbml_model('models/iSB619.xml')\n",
    "medium = iSB619_model.medium\n",
    "medium['EX_so4_e']=0\n",
    "medium['EX_thm_e']=0\n",
    "iSB619_model.medium = medium\n",
    "print('iSB619 without sulfate: ', iSB619_model.slim_optimize())\n",
    "\n",
    "iCN900_model=read_sbml_model('models/iCN900.xml')\n",
    "medium = iCN900_model.medium\n",
    "medium['EX_met__L_e']=0\n",
    "medium['EX_cys__L_e']=0\n",
    "medium['EX_btn_e']=0\n",
    "iCN900_model.medium = medium\n",
    "print('iCN900 without sulfate: ', iCN900_model.slim_optimize())"
   ]
  }
 ],
 "metadata": {
  "kernelspec": {
   "display_name": "Python 3 (ipykernel)",
   "language": "python",
   "name": "python3"
  },
  "language_info": {
   "codemirror_mode": {
    "name": "ipython",
    "version": 3
   },
   "file_extension": ".py",
   "mimetype": "text/x-python",
   "name": "python",
   "nbconvert_exporter": "python",
   "pygments_lexer": "ipython3",
   "version": "3.8.11"
  }
 },
 "nbformat": 4,
 "nbformat_minor": 5
}
